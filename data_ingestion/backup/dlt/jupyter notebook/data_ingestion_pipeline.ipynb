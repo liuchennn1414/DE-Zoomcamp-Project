{
 "cells": [
  {
   "cell_type": "code",
   "execution_count": 1,
   "metadata": {},
   "outputs": [],
   "source": [
    "import dlt\n",
    "import requests\n",
    "import pandas as pd \n",
    "import json \n",
    "from dlt.sources.helpers.rest_client import RESTClient\n",
    "from dlt.sources.helpers.rest_client.paginators import OffsetPaginator\n",
    "from dlt.sources.helpers.rest_client.paginators import PageNumberPaginator\n",
    "from dlt.sources.helpers.rest_client.auth import APIKeyAuth\n",
    "from dlt.destinations import filesystem"
   ]
  },
  {
   "cell_type": "code",
   "execution_count": 2,
   "metadata": {},
   "outputs": [],
   "source": [
    "# Define the API endpoint and your access key\n",
    "API_URL = 'https://api.marketstack.com/v1/eod'\n",
    "ACCESS_KEY = 'hoho'\n"
   ]
  },
  {
   "cell_type": "code",
   "execution_count": 3,
   "metadata": {},
   "outputs": [],
   "source": [
    "# Extract raw data, auto normalization and Load data into GCP Bucket \n",
    "@dlt.resource(name=\"stock\", write_disposition=\"replace\")\n",
    "def extract_raw_full_refresh(date_from, date_to):\n",
    "    client = RESTClient(\n",
    "        base_url=API_URL,\n",
    "        paginator=OffsetPaginator(  # Handles pagination using offset\n",
    "            limit=100, offset=0, total_path=None\n",
    "        )\n",
    "    )\n",
    "\n",
    "    for page in client.paginate(\n",
    "        params={\n",
    "            'access_key': ACCESS_KEY,\n",
    "            'symbols': 'AAPL,MSFT',  # Example symbols\n",
    "            'date_from': date_from,\n",
    "            'date_to': date_to\n",
    "        }\n",
    "    ):\n",
    "        yield page"
   ]
  },
  {
   "cell_type": "code",
   "execution_count": null,
   "metadata": {},
   "outputs": [],
   "source": [
    "@dlt.resource(name=\"stock\", write_disposition=\"append\")\n",
    "def extract_raw_incremental(cursor_date=dlt.sources.incremental(\n",
    "        \"date\",   # <--- field to track, our timestamp\n",
    "        initial_value=initial_dt  \n",
    "        )\n",
    "    ):\n",
    "    client = RESTClient(\n",
    "        base_url=API_URL,\n",
    "\n",
    "        paginator=OffsetPaginator(  # Handles pagination using offset\n",
    "            limit=100, offset=0, total_path=None\n",
    "        )\n",
    "    \n",
    "    )\n",
    "\n",
    "    for page in client.paginate(\n",
    "        params = {\n",
    "            'access_key': ACCESS_KEY,\n",
    "            'symbols': 'AAPL,MSFT',  # Example symbols\n",
    "            'date_from': cursor_date.last_value,\n",
    "            'date_to': datetime.now().strftime(\"%Y-%m-%d\")\n",
    "        }\n",
    "    ):\n",
    "        yield page \n"
   ]
  },
  {
   "cell_type": "code",
   "execution_count": 4,
   "metadata": {},
   "outputs": [],
   "source": [
    "GCP_URL = \"gs://de-zoomcamp-project-453801-terra-bucket\" \n",
    "gcp_bucket = filesystem(GCP_URL)"
   ]
  },
  {
   "cell_type": "code",
   "execution_count": 12,
   "metadata": {},
   "outputs": [],
   "source": [
    "# Load credentials from JSON file\n",
    "with open(\"/home/chenchen/.gc/my-creds.json\") as f:\n",
    "    credentials = json.load(f)\n",
    "\n",
    "# Initialize filesystem with credentials\n",
    "gcp_bucket = filesystem(GCP_URL, credentials=credentials)"
   ]
  },
  {
   "cell_type": "code",
   "execution_count": 13,
   "metadata": {},
   "outputs": [],
   "source": [
    "pipeline = dlt.pipeline(\n",
    "    pipeline_name=\"marketstack_pipeline\",\n",
    "    destination=gcp_bucket,  # Set the destination to GCS\n",
    "    dataset_name='stock_dataset'\n",
    ")"
   ]
  },
  {
   "cell_type": "code",
   "execution_count": 16,
   "metadata": {},
   "outputs": [
    {
     "name": "stdout",
     "output_type": "stream",
     "text": [
      "Pipeline marketstack_pipeline load step completed in 1.85 seconds\n",
      "1 load package(s) were loaded to destination filesystem and into dataset stock_dataset\n",
      "The filesystem destination used gs://de-zoomcamp-project-453801-terra-bucket location to store data\n",
      "Load package 1742107479.6691566 is LOADED and contains no failed jobs\n"
     ]
    }
   ],
   "source": [
    "# run the pipeline with the new resource\n",
    "load_info = pipeline.run(extract_raw, write_disposition=\"replace\",loader_file_format=\"csv\" )\n",
    "\n",
    "print(load_info)"
   ]
  }
 ],
 "metadata": {
  "kernelspec": {
   "display_name": "Python 3 (ipykernel)",
   "language": "python",
   "name": "python3"
  },
  "language_info": {
   "codemirror_mode": {
    "name": "ipython",
    "version": 3
   },
   "file_extension": ".py",
   "mimetype": "text/x-python",
   "name": "python",
   "nbconvert_exporter": "python",
   "pygments_lexer": "ipython3",
   "version": "3.12.7"
  },
  "vscode": {
   "interpreter": {
    "hash": "aee8b7b246df8f9039afb4144a1f6fd8d2ca17a180786b69acc140d282b71a49"
   }
  }
 },
 "nbformat": 4,
 "nbformat_minor": 4
}
