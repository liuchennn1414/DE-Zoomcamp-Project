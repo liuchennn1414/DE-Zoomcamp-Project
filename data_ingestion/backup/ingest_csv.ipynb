{
 "cells": [
  {
   "cell_type": "code",
   "execution_count": 20,
   "metadata": {},
   "outputs": [
    {
     "name": "stdout",
     "output_type": "stream",
     "text": [
      "{'help': 'https://data.gov.sg/api/3/action/help_show?name=datastore_search', 'success': True, 'result': {'resource_id': 'd_23f946fa557947f93a8043bbef41dd09', 'fields': [{'type': 'text', 'id': 'car_park_no'}, {'type': 'text', 'id': 'address'}, {'type': 'text', 'id': 'x_coord'}, {'type': 'text', 'id': 'y_coord'}, {'type': 'text', 'id': 'car_park_type'}, {'type': 'text', 'id': 'type_of_parking_system'}, {'type': 'text', 'id': 'short_term_parking'}, {'type': 'text', 'id': 'free_parking'}, {'type': 'text', 'id': 'night_parking'}, {'type': 'text', 'id': 'car_park_decks'}, {'type': 'text', 'id': 'gantry_height'}, {'type': 'text', 'id': 'car_park_basement'}, {'type': 'int4', 'id': '_id'}], 'records': [{'_id': 1, 'car_park_no': 'ACB', 'address': 'BLK 270/271 ALBERT CENTRE BASEMENT CAR PARK', 'x_coord': '30314.7936', 'y_coord': '31490.4942', 'car_park_type': 'BASEMENT CAR PARK', 'type_of_parking_system': 'ELECTRONIC PARKING', 'short_term_parking': 'WHOLE DAY', 'free_parking': 'NO', 'night_parking': 'YES', 'car_park_decks': '1', 'gantry_height': '1.8', 'car_park_basement': 'Y'}, {'_id': 2, 'car_park_no': 'ACM', 'address': 'BLK 98A ALJUNIED CRESCENT', 'x_coord': '33758.4143', 'y_coord': '33695.5198', 'car_park_type': 'MULTI-STOREY CAR PARK', 'type_of_parking_system': 'ELECTRONIC PARKING', 'short_term_parking': 'WHOLE DAY', 'free_parking': 'SUN & PH FR 7AM-10.30PM', 'night_parking': 'YES', 'car_park_decks': '5', 'gantry_height': '2.1', 'car_park_basement': 'N'}, {'_id': 3, 'car_park_no': 'AH1', 'address': 'BLK 101 JALAN DUSUN', 'x_coord': '29257.7203', 'y_coord': '34500.3599', 'car_park_type': 'SURFACE CAR PARK', 'type_of_parking_system': 'ELECTRONIC PARKING', 'short_term_parking': 'WHOLE DAY', 'free_parking': 'SUN & PH FR 7AM-10.30PM', 'night_parking': 'YES', 'car_park_decks': '0', 'gantry_height': '0', 'car_park_basement': 'N'}, {'_id': 4, 'car_park_no': 'AK19', 'address': 'BLOCK 253 ANG MO KIO STREET 21', 'x_coord': '28185.4359', 'y_coord': '39012.6664', 'car_park_type': 'SURFACE CAR PARK', 'type_of_parking_system': 'COUPON PARKING', 'short_term_parking': '7AM-7PM', 'free_parking': 'NO', 'night_parking': 'NO', 'car_park_decks': '0', 'gantry_height': '0', 'car_park_basement': 'N'}, {'_id': 5, 'car_park_no': 'AK31', 'address': 'BLK 302/348 ANG MO KIO STREET 31', 'x_coord': '29482.029', 'y_coord': '38684.1754', 'car_park_type': 'SURFACE CAR PARK', 'type_of_parking_system': 'COUPON PARKING', 'short_term_parking': 'NO', 'free_parking': 'NO', 'night_parking': 'NO', 'car_park_decks': '0', 'gantry_height': '0', 'car_park_basement': 'N'}, {'_id': 6, 'car_park_no': 'AK52', 'address': 'BLK 513 ANG MO KIO STREET 53', 'x_coord': '29889.3457', 'y_coord': '39382.8134', 'car_park_type': 'SURFACE CAR PARK', 'type_of_parking_system': 'COUPON PARKING', 'short_term_parking': 'WHOLE DAY', 'free_parking': 'NO', 'night_parking': 'YES', 'car_park_decks': '0', 'gantry_height': '0', 'car_park_basement': 'N'}, {'_id': 7, 'car_park_no': 'AK83', 'address': 'BLK 5022 TO 5095 ANG MO KIO INDUSTRIAL PARK 2', 'x_coord': '31397.2241', 'y_coord': '39851.6191', 'car_park_type': 'SURFACE CAR PARK', 'type_of_parking_system': 'COUPON PARKING', 'short_term_parking': 'NO', 'free_parking': 'NO', 'night_parking': 'NO', 'car_park_decks': '0', 'gantry_height': '0', 'car_park_basement': 'N'}, {'_id': 8, 'car_park_no': 'AK9', 'address': 'ANG MO KIO AVENUE 9', 'x_coord': '29674.8184', 'y_coord': '40616.875', 'car_park_type': 'SURFACE CAR PARK', 'type_of_parking_system': 'COUPON PARKING', 'short_term_parking': 'NO', 'free_parking': 'NO', 'night_parking': 'NO', 'car_park_decks': '0', 'gantry_height': '0', 'car_park_basement': 'N'}, {'_id': 9, 'car_park_no': 'AM14', 'address': 'BLK 227 ANG MO KIO STREET 23', 'x_coord': '28777.0707', 'y_coord': '38973.9528', 'car_park_type': 'MULTI-STOREY CAR PARK', 'type_of_parking_system': 'ELECTRONIC PARKING', 'short_term_parking': 'WHOLE DAY', 'free_parking': 'NO', 'night_parking': 'YES', 'car_park_decks': '6', 'gantry_height': '2.15', 'car_park_basement': 'N'}, {'_id': 10, 'car_park_no': 'AM16', 'address': 'BLK 256A ANG MO KIO STREET 21', 'x_coord': '28267.0582', 'y_coord': '39151.8344', 'car_park_type': 'MULTI-STOREY CAR PARK', 'type_of_parking_system': 'ELECTRONIC PARKING', 'short_term_parking': 'WHOLE DAY', 'free_parking': 'SUN & PH FR 7AM-10.30PM', 'night_parking': 'YES', 'car_park_decks': '2', 'gantry_height': '2.15', 'car_park_basement': 'N'}, {'_id': 11, 'car_park_no': 'AM18', 'address': 'BLK 308C ANG MO KIO AVENUE 1', 'x_coord': '29257.6457', 'y_coord': '38619.9953', 'car_park_type': 'MULTI-STOREY CAR PARK', 'type_of_parking_system': 'ELECTRONIC PARKING', 'short_term_parking': '7AM-10.30PM', 'free_parking': 'NO', 'night_parking': 'NO', 'car_park_decks': '3', 'gantry_height': '2.15', 'car_park_basement': 'N'}, {'_id': 12, 'car_park_no': 'AM19', 'address': 'BLK 260 ANG MO KIO STREET 21', 'x_coord': '28134.9305', 'y_coord': '38989.9965', 'car_park_type': 'MULTI-STOREY CAR PARK', 'type_of_parking_system': 'ELECTRONIC PARKING', 'short_term_parking': 'WHOLE DAY', 'free_parking': 'SUN & PH FR 7AM-10.30PM', 'night_parking': 'YES', 'car_park_decks': '6', 'gantry_height': '2.15', 'car_park_basement': 'N'}, {'_id': 13, 'car_park_no': 'AM20', 'address': 'BLK 309B ANG MO KIO STREET 31', 'x_coord': '29421.1502', 'y_coord': '38526.8611', 'car_park_type': 'MULTI-STOREY CAR PARK', 'type_of_parking_system': 'ELECTRONIC PARKING', 'short_term_parking': 'WHOLE DAY', 'free_parking': 'SUN & PH FR 7AM-10.30PM', 'night_parking': 'YES', 'car_park_decks': '12', 'gantry_height': '2.15', 'car_park_basement': 'N'}, {'_id': 14, 'car_park_no': 'AM22', 'address': 'BLK 316B ANG MO KIO STREET 31', 'x_coord': '29595.2539', 'y_coord': '38514.7606', 'car_park_type': 'MULTI-STOREY CAR PARK', 'type_of_parking_system': 'ELECTRONIC PARKING', 'short_term_parking': 'WHOLE DAY', 'free_parking': 'SUN & PH FR 7AM-10.30PM', 'night_parking': 'YES', 'car_park_decks': '12', 'gantry_height': '2.15', 'car_park_basement': 'N'}, {'_id': 15, 'car_park_no': 'AM32', 'address': 'BLK 255A ANG MO KIO STREET 21', 'x_coord': '28117.7689', 'y_coord': '39172.0389', 'car_park_type': 'MULTI-STOREY CAR PARK', 'type_of_parking_system': 'ELECTRONIC PARKING', 'short_term_parking': 'WHOLE DAY', 'free_parking': 'NO', 'night_parking': 'YES', 'car_park_decks': '2', 'gantry_height': '2.15', 'car_park_basement': 'N'}, {'_id': 16, 'car_park_no': 'AM43', 'address': 'BLK 455 ANG MO KIO STREET 44', 'x_coord': '30669.2379', 'y_coord': '38959.5487', 'car_park_type': 'MULTI-STOREY CAR PARK', 'type_of_parking_system': 'ELECTRONIC PARKING', 'short_term_parking': 'WHOLE DAY', 'free_parking': 'SUN & PH FR 7AM-10.30PM', 'night_parking': 'YES', 'car_park_decks': '7', 'gantry_height': '2.15', 'car_park_basement': 'N'}, {'_id': 17, 'car_park_no': 'AM46', 'address': 'BLK 588 ANG MO KIO STREET 52', 'x_coord': '30234.4145', 'y_coord': '39354.0323', 'car_park_type': 'MULTI-STOREY CAR PARK', 'type_of_parking_system': 'ELECTRONIC PARKING', 'short_term_parking': 'WHOLE DAY', 'free_parking': 'NO', 'night_parking': 'YES', 'car_park_decks': '5', 'gantry_height': '2.15', 'car_park_basement': 'N'}, {'_id': 18, 'car_park_no': 'AM51', 'address': 'BLK 700 ANG MO KIO AVENUE 6', 'x_coord': '29489.025', 'y_coord': '39103.7605', 'car_park_type': 'MULTI-STOREY CAR PARK', 'type_of_parking_system': 'ELECTRONIC PARKING', 'short_term_parking': 'WHOLE DAY', 'free_parking': 'SUN & PH FR 7AM-10.30PM', 'night_parking': 'YES', 'car_park_decks': '12', 'gantry_height': '2.15', 'car_park_basement': 'N'}, {'_id': 19, 'car_park_no': 'AM64', 'address': 'BLK 590 ANG MO KIO STREET 51', 'x_coord': '30201.236', 'y_coord': '39274.274', 'car_park_type': 'MULTI-STOREY CAR PARK', 'type_of_parking_system': 'ELECTRONIC PARKING', 'short_term_parking': 'WHOLE DAY', 'free_parking': 'SUN & PH FR 7AM-10.30PM', 'night_parking': 'YES', 'car_park_decks': '12', 'gantry_height': '2.15', 'car_park_basement': 'N'}, {'_id': 20, 'car_park_no': 'AM79', 'address': 'BLK 596 ANG MO KIO STREET 52', 'x_coord': '30004.2224', 'y_coord': '39370.6063', 'car_park_type': 'MULTI-STOREY CAR PARK', 'type_of_parking_system': 'ELECTRONIC PARKING', 'short_term_parking': 'WHOLE DAY', 'free_parking': 'SUN & PH FR 7AM-10.30PM', 'night_parking': 'YES', 'car_park_decks': '12', 'gantry_height': '2.15', 'car_park_basement': 'N'}, {'_id': 21, 'car_park_no': 'AM80', 'address': 'BLK 130A ANG MO KIO STREET 12', 'x_coord': '28950.7223', 'y_coord': '39184.6976', 'car_park_type': 'MULTI-STOREY CAR PARK', 'type_of_parking_system': 'ELECTRONIC PARKING', 'short_term_parking': 'WHOLE DAY', 'free_parking': 'SUN & PH FR 7AM-10.30PM', 'night_parking': 'YES', 'car_park_decks': '4', 'gantry_height': '2.15', 'car_park_basement': 'N'}, {'_id': 22, 'car_park_no': 'AM81', 'address': 'BLK 132A ANG MO KIO STREET 12', 'x_coord': '28960.3285', 'y_coord': '39294.4158', 'car_park_type': 'MULTI-STOREY CAR PARK', 'type_of_parking_system': 'ELECTRONIC PARKING', 'short_term_parking': 'WHOLE DAY', 'free_parking': 'SUN & PH FR 7AM-10.30PM', 'night_parking': 'YES', 'car_park_decks': '4', 'gantry_height': '2.15', 'car_park_basement': 'N'}, {'_id': 23, 'car_park_no': 'AM96', 'address': 'BLK 352A ANG MO KIO STREET 32', 'x_coord': '29961.0968', 'y_coord': '38457.9118', 'car_park_type': 'MULTI-STOREY CAR PARK', 'type_of_parking_system': 'ELECTRONIC PARKING', 'short_term_parking': 'WHOLE DAY', 'free_parking': 'SUN & PH FR 7AM-10.30PM', 'night_parking': 'YES', 'car_park_decks': '12', 'gantry_height': '2.15', 'car_park_basement': 'N'}, {'_id': 24, 'car_park_no': 'AR1L', 'address': '3 AND 5 DOVER ROAD', 'x_coord': '22359.0217', 'y_coord': '31801.6379', 'car_park_type': 'SURFACE CAR PARK', 'type_of_parking_system': 'ELECTRONIC PARKING', 'short_term_parking': 'NO', 'free_parking': 'NO', 'night_parking': 'NO', 'car_park_decks': '0', 'gantry_height': '4.5', 'car_park_basement': 'N'}, {'_id': 25, 'car_park_no': 'AR1M', 'address': 'BLK 2A DOVER ROAD', 'x_coord': '22474.205', 'y_coord': '31687.9608', 'car_park_type': 'MULTI-STOREY CAR PARK', 'type_of_parking_system': 'ELECTRONIC PARKING', 'short_term_parking': 'WHOLE DAY', 'free_parking': 'SUN & PH FR 7AM-10.30PM', 'night_parking': 'YES', 'car_park_decks': '10', 'gantry_height': '2.15', 'car_park_basement': 'N'}, {'_id': 26, 'car_park_no': 'AR2L', 'address': 'BLK 26 AND 27 DOVER CRESCENT', 'x_coord': '22194.6359', 'y_coord': '32026.8288', 'car_park_type': 'SURFACE CAR PARK', 'type_of_parking_system': 'ELECTRONIC PARKING', 'short_term_parking': 'NO', 'free_parking': 'NO', 'night_parking': 'NO', 'car_park_decks': '0', 'gantry_height': '0', 'car_park_basement': 'N'}, {'_id': 27, 'car_park_no': 'AR2M', 'address': 'BLK 28 DOVER CRESCENT', 'x_coord': '22252.486', 'y_coord': '31896.9749', 'car_park_type': 'MULTI-STOREY CAR PARK', 'type_of_parking_system': 'ELECTRONIC PARKING', 'short_term_parking': 'WHOLE DAY', 'free_parking': 'SUN & PH FR 7AM-10.30PM', 'night_parking': 'YES', 'car_park_decks': '16', 'gantry_height': '2.15', 'car_park_basement': 'N'}, {'_id': 28, 'car_park_no': 'AR5M', 'address': 'BLK 19A DOVER CRESCENT', 'x_coord': '22562.8641', 'y_coord': '32184.9758', 'car_park_type': 'MULTI-STOREY CAR PARK', 'type_of_parking_system': 'ELECTRONIC PARKING', 'short_term_parking': 'WHOLE DAY', 'free_parking': 'SUN & PH FR 7AM-10.30PM', 'night_parking': 'YES', 'car_park_decks': '12', 'gantry_height': '2.15', 'car_park_basement': 'N'}, {'_id': 29, 'car_park_no': 'AR7L', 'address': '12 TO 14 DOVER CLOSE EAST', 'x_coord': '22688.3753', 'y_coord': '32015.1518', 'car_park_type': 'SURFACE CAR PARK', 'type_of_parking_system': 'ELECTRONIC PARKING', 'short_term_parking': 'NO', 'free_parking': 'NO', 'night_parking': 'NO', 'car_park_decks': '0', 'gantry_height': '0', 'car_park_basement': 'N'}, {'_id': 30, 'car_park_no': 'AR7M', 'address': 'BLK 12A DOVER CLOSE EAST', 'x_coord': '22643.9533', 'y_coord': '31900.5591', 'car_park_type': 'MULTI-STOREY CAR PARK', 'type_of_parking_system': 'ELECTRONIC PARKING', 'short_term_parking': 'WHOLE DAY', 'free_parking': 'SUN & PH FR 7AM-10.30PM', 'night_parking': 'YES', 'car_park_decks': '7', 'gantry_height': '2.15', 'car_park_basement': 'N'}, {'_id': 31, 'car_park_no': 'AR9', 'address': 'BLK 20/22/23 DOVER CRESCENT', 'x_coord': '22448.9368', 'y_coord': '32178.436', 'car_park_type': 'SURFACE CAR PARK', 'type_of_parking_system': 'ELECTRONIC PARKING', 'short_term_parking': '7AM-10.30PM', 'free_parking': 'SUN & PH FR 7AM-10.30PM', 'night_parking': 'NO', 'car_park_decks': '0', 'gantry_height': '0', 'car_park_basement': 'N'}, {'_id': 32, 'car_park_no': 'AV1', 'address': 'BLK 120/120A/121-127 ALEXANDRA VILLAGE', 'x_coord': '24649.752', 'y_coord': '29778.7266', 'car_park_type': 'SURFACE CAR PARK', 'type_of_parking_system': 'ELECTRONIC PARKING', 'short_term_parking': 'WHOLE DAY', 'free_parking': 'NO', 'night_parking': 'YES', 'car_park_decks': '0', 'gantry_height': '4.5', 'car_park_basement': 'N'}, {'_id': 33, 'car_park_no': 'AV2', 'address': 'BLK 1001/1010 BUKIT MERAH LANE 1/3', 'x_coord': '24941.5778', 'y_coord': '29704.4978', 'car_park_type': 'SURFACE CAR PARK', 'type_of_parking_system': 'COUPON PARKING', 'short_term_parking': 'WHOLE DAY', 'free_parking': 'NO', 'night_parking': 'YES', 'car_park_decks': '0', 'gantry_height': '0', 'car_park_basement': 'N'}, {'_id': 34, 'car_park_no': 'A1', 'address': 'BLK 215 ANG MO KIO STREET 22', 'x_coord': '28934.1777', 'y_coord': '38749.8516', 'car_park_type': 'SURFACE CAR PARK', 'type_of_parking_system': 'COUPON PARKING', 'short_term_parking': 'WHOLE DAY', 'free_parking': 'SUN & PH FR 7AM-10.30PM', 'night_parking': 'YES', 'car_park_decks': '0', 'gantry_height': '0', 'car_park_basement': 'N'}, {'_id': 35, 'car_park_no': 'A10', 'address': 'BLK 201/202 ANG MO KIO STREET 22', 'x_coord': '29247.03', 'y_coord': '38962', 'car_park_type': 'SURFACE CAR PARK', 'type_of_parking_system': 'ELECTRONIC PARKING', 'short_term_parking': 'WHOLE DAY', 'free_parking': 'SUN & PH FR 7AM-10.30PM', 'night_parking': 'YES', 'car_park_decks': '0', 'gantry_height': '0', 'car_park_basement': 'N'}, {'_id': 36, 'car_park_no': 'A100', 'address': 'BLK 650 ANG MO KIO STREET 61', 'x_coord': '29033.1895', 'y_coord': '39996.3712', 'car_park_type': 'SURFACE CAR PARK', 'type_of_parking_system': 'ELECTRONIC PARKING', 'short_term_parking': 'WHOLE DAY', 'free_parking': 'NO', 'night_parking': 'YES', 'car_park_decks': '0', 'gantry_height': '0', 'car_park_basement': 'N'}, {'_id': 37, 'car_park_no': 'A101', 'address': 'BLK 651 ANG MO KIO AVENUE 9', 'x_coord': '28937.1415', 'y_coord': '40554.9338', 'car_park_type': 'MULTI-STOREY CAR PARK', 'type_of_parking_system': 'ELECTRONIC PARKING', 'short_term_parking': 'WHOLE DAY', 'free_parking': 'NO', 'night_parking': 'YES', 'car_park_decks': '14', 'gantry_height': '2.15', 'car_park_basement': 'N'}, {'_id': 38, 'car_park_no': 'A11', 'address': 'BLK 223/226/226A-226D ANG MO KIO STREET 22', 'x_coord': '28541.14', 'y_coord': '38785.36', 'car_park_type': 'SURFACE CAR PARK', 'type_of_parking_system': 'ELECTRONIC PARKING', 'short_term_parking': 'WHOLE DAY', 'free_parking': 'SUN & PH FR 7AM-10.30PM', 'night_parking': 'YES', 'car_park_decks': '0', 'gantry_height': '4.5', 'car_park_basement': 'N'}, {'_id': 39, 'car_park_no': 'A12', 'address': 'BLK 229/230 ANG MO KIO STREET 22', 'x_coord': '28605.489', 'y_coord': '38954.8', 'car_park_type': 'SURFACE CAR PARK', 'type_of_parking_system': 'ELECTRONIC PARKING', 'short_term_parking': 'WHOLE DAY', 'free_parking': 'SUN & PH FR 7AM-10.30PM', 'night_parking': 'YES', 'car_park_decks': '0', 'gantry_height': '0', 'car_park_basement': 'N'}, {'_id': 40, 'car_park_no': 'A13', 'address': 'BLK 232/233 ANG MO KIO STREET 22', 'x_coord': '28388.51', 'y_coord': '38892.03', 'car_park_type': 'SURFACE CAR PARK', 'type_of_parking_system': 'ELECTRONIC PARKING', 'short_term_parking': 'WHOLE DAY', 'free_parking': 'SUN & PH FR 7AM-10.30PM', 'night_parking': 'YES', 'car_park_decks': '0', 'gantry_height': '4.5', 'car_park_basement': 'N'}, {'_id': 41, 'car_park_no': 'A15', 'address': 'BLK 226E-226H ANG MO KIO STREET 22', 'x_coord': '28790.02', 'y_coord': '38777.85', 'car_park_type': 'SURFACE CAR PARK', 'type_of_parking_system': 'ELECTRONIC PARKING', 'short_term_parking': 'WHOLE DAY', 'free_parking': 'SUN & PH FR 7AM-10.30PM', 'night_parking': 'YES', 'car_park_decks': '0', 'gantry_height': '0', 'car_park_basement': 'N'}, {'_id': 42, 'car_park_no': 'A2', 'address': 'BLK 206/207 ANG MO KIO STREET 22', 'x_coord': '29082.59', 'y_coord': '38697.07', 'car_park_type': 'SURFACE CAR PARK', 'type_of_parking_system': 'ELECTRONIC PARKING', 'short_term_parking': 'WHOLE DAY', 'free_parking': 'SUN & PH FR 7AM-10.30PM', 'night_parking': 'YES', 'car_park_decks': '0', 'gantry_height': '0', 'car_park_basement': 'N'}, {'_id': 43, 'car_park_no': 'A20', 'address': 'BLK 304/307/319 ANG MO KIO STREET 31', 'x_coord': '29684.7366', 'y_coord': '38554.0251', 'car_park_type': 'SURFACE CAR PARK', 'type_of_parking_system': 'ELECTRONIC PARKING', 'short_term_parking': 'WHOLE DAY', 'free_parking': 'SUN & PH FR 7AM-10.30PM', 'night_parking': 'YES', 'car_park_decks': '0', 'gantry_height': '4.5', 'car_park_basement': 'N'}, {'_id': 44, 'car_park_no': 'A21', 'address': 'BLK 325/326/301 ANG MO KIO STREET 31', 'x_coord': '29446.1477', 'y_coord': '38906.1139', 'car_park_type': 'SURFACE CAR PARK', 'type_of_parking_system': 'ELECTRONIC PARKING', 'short_term_parking': 'WHOLE DAY', 'free_parking': 'SUN & PH FR 7AM-10.30PM', 'night_parking': 'YES', 'car_park_decks': '0', 'gantry_height': '4.5', 'car_park_basement': 'N'}, {'_id': 45, 'car_park_no': 'A23', 'address': 'BLK 347A ANG MO KIO AVENUE 3', 'x_coord': '29735.5099', 'y_coord': '38818.5301', 'car_park_type': 'MULTI-STOREY CAR PARK', 'type_of_parking_system': 'ELECTRONIC PARKING', 'short_term_parking': 'WHOLE DAY', 'free_parking': 'SUN & PH FR 7AM-10.30PM', 'night_parking': 'YES', 'car_park_decks': '10', 'gantry_height': '1.9', 'car_park_basement': 'N'}, {'_id': 46, 'car_park_no': 'A24', 'address': 'BLK 338/340 ANG MO KIO STREET 32', 'x_coord': '29789.41', 'y_coord': '38533.02', 'car_park_type': 'SURFACE CAR PARK', 'type_of_parking_system': 'ELECTRONIC PARKING', 'short_term_parking': 'WHOLE DAY', 'free_parking': 'SUN & PH FR 7AM-10.30PM', 'night_parking': 'YES', 'car_park_decks': '0', 'gantry_height': '0', 'car_park_basement': 'N'}, {'_id': 47, 'car_park_no': 'A25', 'address': 'BLK 330/337 ANG MO KIO AVENUE 8', 'x_coord': '30037.566', 'y_coord': '38313.6296', 'car_park_type': 'SURFACE CAR PARK', 'type_of_parking_system': 'ELECTRONIC PARKING', 'short_term_parking': 'WHOLE DAY', 'free_parking': 'SUN & PH FR 7AM-10.30PM', 'night_parking': 'YES', 'car_park_decks': '0', 'gantry_height': '4.5', 'car_park_basement': 'N'}, {'_id': 48, 'car_park_no': 'A26', 'address': 'BLK 113/114/118 ANG MO KIO AVENUE 4', 'x_coord': '28236.93', 'y_coord': '39419.47', 'car_park_type': 'SURFACE CAR PARK', 'type_of_parking_system': 'ELECTRONIC PARKING', 'short_term_parking': 'WHOLE DAY', 'free_parking': 'SUN & PH FR 7AM-10.30PM', 'night_parking': 'YES', 'car_park_decks': '0', 'gantry_height': '4.5', 'car_park_basement': 'N'}, {'_id': 49, 'car_park_no': 'A27', 'address': 'BLK 108/109/110 ANG MO KIO STREET 11', 'x_coord': '28556.67', 'y_coord': '39153.3', 'car_park_type': 'SURFACE CAR PARK', 'type_of_parking_system': 'ELECTRONIC PARKING', 'short_term_parking': 'WHOLE DAY', 'free_parking': 'SUN & PH FR 7AM-10.30PM', 'night_parking': 'YES', 'car_park_decks': '0', 'gantry_height': '5.4', 'car_park_basement': 'N'}, {'_id': 50, 'car_park_no': 'A28', 'address': 'BLK 103/105/107 ANG MO KIO STREET 11', 'x_coord': '28461.3669', 'y_coord': '39295.5961', 'car_park_type': 'SURFACE CAR PARK', 'type_of_parking_system': 'ELECTRONIC PARKING', 'short_term_parking': 'WHOLE DAY', 'free_parking': 'SUN & PH FR 7AM-10.30PM', 'night_parking': 'YES', 'car_park_decks': '0', 'gantry_height': '0', 'car_park_basement': 'N'}, {'_id': 51, 'car_park_no': 'A29', 'address': 'BLK 347 ANG MO KIO AVENUE 3', 'x_coord': '29713.5035', 'y_coord': '38806.4544', 'car_park_type': 'SURFACE CAR PARK', 'type_of_parking_system': 'ELECTRONIC PARKING', 'short_term_parking': 'WHOLE DAY', 'free_parking': 'SUN & PH FR 7AM-10.30PM', 'night_parking': 'YES', 'car_park_decks': '0', 'gantry_height': '0', 'car_park_basement': 'N'}, {'_id': 52, 'car_park_no': 'A30', 'address': 'BLK 129/134 ANG MO KIO STREET 12', 'x_coord': '29012.7631', 'y_coord': '39222.5981', 'car_park_type': 'SURFACE CAR PARK', 'type_of_parking_system': 'ELECTRONIC PARKING', 'short_term_parking': 'WHOLE DAY', 'free_parking': 'SUN & PH FR 7AM-10.30PM', 'night_parking': 'YES', 'car_park_decks': '0', 'gantry_height': '4.5', 'car_park_basement': 'N'}, {'_id': 53, 'car_park_no': 'A30A', 'address': 'BLK 133 ANG MO KIO STREET 12', 'x_coord': '29049.6606', 'y_coord': '39137.3556', 'car_park_type': 'SURFACE CAR PARK', 'type_of_parking_system': 'COUPON PARKING', 'short_term_parking': '7AM-10.30PM', 'free_parking': 'SUN & PH FR 7AM-10.30PM', 'night_parking': 'NO', 'car_park_decks': '0', 'gantry_height': '0', 'car_park_basement': 'N'}, {'_id': 54, 'car_park_no': 'A31', 'address': 'BLK 119/128 ANG MO KIO STREET 12', 'x_coord': '29155.32', 'y_coord': '39163.04', 'car_park_type': 'SURFACE CAR PARK', 'type_of_parking_system': 'ELECTRONIC PARKING', 'short_term_parking': 'WHOLE DAY', 'free_parking': 'SUN & PH FR 7AM-10.30PM', 'night_parking': 'YES', 'car_park_decks': '0', 'gantry_height': '4.5', 'car_park_basement': 'N'}, {'_id': 55, 'car_park_no': 'A31A', 'address': 'BLK 125/126 ANG MO KIO STREET 12', 'x_coord': '29150.6699', 'y_coord': '39318.7539', 'car_park_type': 'SURFACE CAR PARK', 'type_of_parking_system': 'COUPON PARKING', 'short_term_parking': '7AM-10.30PM', 'free_parking': 'SUN & PH FR 7AM-10.30PM', 'night_parking': 'NO', 'car_park_decks': '0', 'gantry_height': '0', 'car_park_basement': 'N'}, {'_id': 56, 'car_park_no': 'A33', 'address': 'BLK 253/254 ANG MO KIO STREET 21', 'x_coord': '28152.8391', 'y_coord': '39115.4784', 'car_park_type': 'SURFACE CAR PARK', 'type_of_parking_system': 'ELECTRONIC PARKING', 'short_term_parking': 'WHOLE DAY', 'free_parking': 'NO', 'night_parking': 'YES', 'car_park_decks': '0', 'gantry_height': '4.5', 'car_park_basement': 'N'}, {'_id': 57, 'car_park_no': 'A34', 'address': 'BLK 422/425 ANG MO KIO STREET 42', 'x_coord': '30042', 'y_coord': '38931.43', 'car_park_type': 'SURFACE CAR PARK', 'type_of_parking_system': 'ELECTRONIC PARKING', 'short_term_parking': 'WHOLE DAY', 'free_parking': 'SUN & PH FR 7AM-10.30PM', 'night_parking': 'YES', 'car_park_decks': '0', 'gantry_height': '0', 'car_park_basement': 'N'}, {'_id': 58, 'car_park_no': 'A35', 'address': 'BLK 426/428/435 ANG MO KIO STREET 43', 'x_coord': '30310.66', 'y_coord': '38963.49', 'car_park_type': 'SURFACE CAR PARK', 'type_of_parking_system': 'ELECTRONIC PARKING', 'short_term_parking': 'WHOLE DAY', 'free_parking': 'SUN & PH FR 7AM-10.30PM', 'night_parking': 'YES', 'car_park_decks': '0', 'gantry_height': '4.5', 'car_park_basement': 'N'}, {'_id': 59, 'car_park_no': 'A36', 'address': 'BLK 436/443/445 ANG MO KIO STREET 43', 'x_coord': '30443.9088', 'y_coord': '38715.8847', 'car_park_type': 'SURFACE CAR PARK', 'type_of_parking_system': 'ELECTRONIC PARKING', 'short_term_parking': 'WHOLE DAY', 'free_parking': 'SUN & PH FR 7AM-10.30PM', 'night_parking': 'YES', 'car_park_decks': '0', 'gantry_height': '4.5', 'car_park_basement': 'N'}, {'_id': 60, 'car_park_no': 'A37', 'address': 'BLK 446/449/453 ANG MO KIO STREET 43', 'x_coord': '30474.8188', 'y_coord': '38904.5192', 'car_park_type': 'SURFACE CAR PARK', 'type_of_parking_system': 'ELECTRONIC PARKING', 'short_term_parking': 'WHOLE DAY', 'free_parking': 'SUN & PH FR 7AM-10.30PM', 'night_parking': 'YES', 'car_park_decks': '0', 'gantry_height': '4.5', 'car_park_basement': 'N'}, {'_id': 61, 'car_park_no': 'A38', 'address': 'BLK 407/410/421 ANG MO KIO AVENUE 10', 'x_coord': '30367.0774', 'y_coord': '38445.7028', 'car_park_type': 'SURFACE CAR PARK', 'type_of_parking_system': 'ELECTRONIC PARKING', 'short_term_parking': 'WHOLE DAY', 'free_parking': 'SUN & PH FR 7AM-10.30PM', 'night_parking': 'YES', 'car_park_decks': '0', 'gantry_height': '4.5', 'car_park_basement': 'N'}, {'_id': 62, 'car_park_no': 'A39', 'address': 'BLK 401/405 ANG MO KIO AVENUE 10', 'x_coord': '30309.63', 'y_coord': '38134.69', 'car_park_type': 'SURFACE CAR PARK', 'type_of_parking_system': 'ELECTRONIC PARKING', 'short_term_parking': 'WHOLE DAY', 'free_parking': 'SUN & PH FR 7AM-10.30PM', 'night_parking': 'YES', 'car_park_decks': '0', 'gantry_height': '0', 'car_park_basement': 'N'}, {'_id': 63, 'car_park_no': 'A4', 'address': 'BLK 217/220 ANG MO KIO AVENUE 1', 'x_coord': '28876.2363', 'y_coord': '38636.7578', 'car_park_type': 'SURFACE CAR PARK', 'type_of_parking_system': 'ELECTRONIC PARKING', 'short_term_parking': 'WHOLE DAY', 'free_parking': 'SUN & PH FR 7AM-10.30PM', 'night_parking': 'YES', 'car_park_decks': '0', 'gantry_height': '4.5', 'car_park_basement': 'N'}, {'_id': 64, 'car_park_no': 'A40', 'address': 'BLK 471/476 ANG MO KIO STREET 44', 'x_coord': '30633.47', 'y_coord': '38267.95', 'car_park_type': 'SURFACE CAR PARK', 'type_of_parking_system': 'ELECTRONIC PARKING', 'short_term_parking': 'WHOLE DAY', 'free_parking': 'SUN & PH FR 7AM-10.30PM', 'night_parking': 'YES', 'car_park_decks': '0', 'gantry_height': '9.99', 'car_park_basement': 'N'}, {'_id': 65, 'car_park_no': 'A41', 'address': 'BLK 466/470 ANG MO KIO STREET 44', 'x_coord': '30627.96', 'y_coord': '38553.32', 'car_park_type': 'SURFACE CAR PARK', 'type_of_parking_system': 'ELECTRONIC PARKING', 'short_term_parking': 'WHOLE DAY', 'free_parking': 'SUN & PH FR 7AM-10.30PM', 'night_parking': 'YES', 'car_park_decks': '0', 'gantry_height': '0', 'car_park_basement': 'N'}, {'_id': 66, 'car_park_no': 'A42', 'address': 'BLK 461/465 ANG MO KIO STREET 44', 'x_coord': '30675.9559', 'y_coord': '38735.0223', 'car_park_type': 'SURFACE CAR PARK', 'type_of_parking_system': 'ELECTRONIC PARKING', 'short_term_parking': 'WHOLE DAY', 'free_parking': 'SUN & PH FR 7AM-10.30PM', 'night_parking': 'YES', 'car_park_decks': '0', 'gantry_height': '0', 'car_park_basement': 'N'}, {'_id': 67, 'car_park_no': 'A43', 'address': 'BLK 457/458/460 ANG MO KIO STREET 44', 'x_coord': '30887.78', 'y_coord': '38670.51', 'car_park_type': 'SURFACE CAR PARK', 'type_of_parking_system': 'ELECTRONIC PARKING', 'short_term_parking': 'WHOLE DAY', 'free_parking': 'SUN & PH FR 7AM-10.30PM', 'night_parking': 'YES', 'car_park_decks': '0', 'gantry_height': '0', 'car_park_basement': 'N'}, {'_id': 68, 'car_park_no': 'A44', 'address': 'BLK 459/456 ANG MO KIO STREET 44', 'x_coord': '30856.9781', 'y_coord': '38804.1956', 'car_park_type': 'SURFACE CAR PARK', 'type_of_parking_system': 'ELECTRONIC PARKING', 'short_term_parking': 'WHOLE DAY', 'free_parking': 'SUN & PH FR 7AM-10.30PM', 'night_parking': 'YES', 'car_park_decks': '0', 'gantry_height': '0', 'car_park_basement': 'N'}, {'_id': 69, 'car_park_no': 'A45', 'address': 'BLK 570/578 ANG MO KIO STREET 51', 'x_coord': '30438.53', 'y_coord': '39214.64', 'car_park_type': 'SURFACE CAR PARK', 'type_of_parking_system': 'ELECTRONIC PARKING', 'short_term_parking': 'WHOLE DAY', 'free_parking': 'SUN & PH FR 7AM-10.30PM', 'night_parking': 'YES', 'car_park_decks': '0', 'gantry_height': '0', 'car_park_basement': 'N'}, {'_id': 70, 'car_park_no': 'A47', 'address': 'BLK 562/565/560 ANG MO KIO STREET 54', 'x_coord': '30885.475', 'y_coord': '39174.8899', 'car_park_type': 'SURFACE CAR PARK', 'type_of_parking_system': 'ELECTRONIC PARKING', 'short_term_parking': 'WHOLE DAY', 'free_parking': 'SUN & PH FR 7AM-10.30PM', 'night_parking': 'YES', 'car_park_decks': '0', 'gantry_height': '0', 'car_park_basement': 'N'}, {'_id': 71, 'car_park_no': 'A48', 'address': 'BLK 571/73 ANG MO KIO STREET 51', 'x_coord': '30374.18', 'y_coord': '39154.22', 'car_park_type': 'SURFACE CAR PARK', 'type_of_parking_system': 'ELECTRONIC PARKING', 'short_term_parking': 'WHOLE DAY', 'free_parking': 'SUN & PH FR 7AM-10.30PM', 'night_parking': 'YES', 'car_park_decks': '0', 'gantry_height': '0', 'car_park_basement': 'N'}, {'_id': 72, 'car_park_no': 'A49', 'address': 'BLK 555/559 ANG MO KIO STREET 54', 'x_coord': '30724.16', 'y_coord': '39260.19', 'car_park_type': 'SURFACE CAR PARK', 'type_of_parking_system': 'ELECTRONIC PARKING', 'short_term_parking': 'WHOLE DAY', 'free_parking': 'SUN & PH FR 7AM-10.30PM', 'night_parking': 'YES', 'car_park_decks': '0', 'gantry_height': '0', 'car_park_basement': 'N'}, {'_id': 73, 'car_park_no': 'A50', 'address': 'BLK 548/552/556 ANG MO KIO STREET 54', 'x_coord': '30703.29', 'y_coord': '39392.09', 'car_park_type': 'SURFACE CAR PARK', 'type_of_parking_system': 'ELECTRONIC PARKING', 'short_term_parking': 'WHOLE DAY', 'free_parking': 'SUN & PH FR 7AM-10.30PM', 'night_parking': 'YES', 'car_park_decks': '0', 'gantry_height': '4.5', 'car_park_basement': 'N'}, {'_id': 74, 'car_park_no': 'A51', 'address': 'BLK 252/253A ANG MO KIO STREET 21', 'x_coord': '28117.6053', 'y_coord': '39054.6321', 'car_park_type': 'SURFACE CAR PARK', 'type_of_parking_system': 'ELECTRONIC PARKING', 'short_term_parking': 'WHOLE DAY', 'free_parking': 'NO', 'night_parking': 'YES', 'car_park_decks': '0', 'gantry_height': '5.4', 'car_park_basement': 'N'}, {'_id': 75, 'car_park_no': 'A52', 'address': 'BLK 701/716 ANG MO KIO AVENUE 3/6', 'x_coord': '29513.9566', 'y_coord': '39155.7785', 'car_park_type': 'SURFACE CAR PARK', 'type_of_parking_system': 'ELECTRONIC PARKING', 'short_term_parking': 'WHOLE DAY', 'free_parking': 'SUN & PH FR 7AM-10.30PM', 'night_parking': 'YES', 'car_park_decks': '0', 'gantry_height': '4.5', 'car_park_basement': 'N'}, {'_id': 76, 'car_park_no': 'A52L', 'address': 'BLK 700B/ 700C ANG MO KIO AVENUE 3/6', 'x_coord': '29426.2389', 'y_coord': '39033.615', 'car_park_type': 'SURFACE CAR PARK', 'type_of_parking_system': 'ELECTRONIC PARKING', 'short_term_parking': 'NO', 'free_parking': 'NO', 'night_parking': 'NO', 'car_park_decks': '0', 'gantry_height': '4.5', 'car_park_basement': 'N'}, {'_id': 77, 'car_park_no': 'A53', 'address': 'BLK 712A ANG MO KIO AVENUE 3/6', 'x_coord': '29508.9218', 'y_coord': '39208.8091', 'car_park_type': 'MULTI-STOREY CAR PARK', 'type_of_parking_system': 'ELECTRONIC PARKING', 'short_term_parking': 'WHOLE DAY', 'free_parking': 'SUN & PH FR 7AM-10.30PM', 'night_parking': 'YES', 'car_park_decks': '14', 'gantry_height': '1.8', 'car_park_basement': 'N'}, {'_id': 78, 'car_park_no': 'A54', 'address': 'BLK 727/728 ANG MO KIO AVENUE 6', 'x_coord': '29401.8671', 'y_coord': '39382.3378', 'car_park_type': 'SURFACE CAR PARK', 'type_of_parking_system': 'ELECTRONIC PARKING', 'short_term_parking': 'WHOLE DAY', 'free_parking': 'SUN & PH FR 7AM-10.30PM', 'night_parking': 'YES', 'car_park_decks': '0', 'gantry_height': '4.5', 'car_park_basement': 'N'}, {'_id': 79, 'car_park_no': 'A55', 'address': 'BLK 729/730 ANG MO KIO AVENUE 6/8', 'x_coord': '29464.1325', 'y_coord': '39466.0892', 'car_park_type': 'SURFACE CAR PARK', 'type_of_parking_system': 'ELECTRONIC PARKING', 'short_term_parking': 'WHOLE DAY', 'free_parking': 'SUN & PH FR 7AM-10.30PM', 'night_parking': 'YES', 'car_park_decks': '0', 'gantry_height': '0', 'car_park_basement': 'N'}, {'_id': 80, 'car_park_no': 'A56', 'address': 'BLK 725/730 ANG MO KIO AVENUE 8', 'x_coord': '29538.847', 'y_coord': '39411.5653', 'car_park_type': 'SURFACE CAR PARK', 'type_of_parking_system': 'ELECTRONIC PARKING', 'short_term_parking': 'WHOLE DAY', 'free_parking': 'SUN & PH FR 7AM-10.30PM', 'night_parking': 'YES', 'car_park_decks': '0', 'gantry_height': '0', 'car_park_basement': 'N'}, {'_id': 81, 'car_park_no': 'A57', 'address': 'BLK 720/723 ANG MO KIO AVENUE 8', 'x_coord': '29518.5871', 'y_coord': '39336.4776', 'car_park_type': 'SURFACE CAR PARK', 'type_of_parking_system': 'ELECTRONIC PARKING', 'short_term_parking': 'WHOLE DAY', 'free_parking': 'SUN & PH FR 7AM-10.30PM', 'night_parking': 'YES', 'car_park_decks': '0', 'gantry_height': '0', 'car_park_basement': 'N'}, {'_id': 82, 'car_park_no': 'A58', 'address': 'BLK 721/722 ANG MO KIO AVENUE 8', 'x_coord': '29603.16', 'y_coord': '39372.68', 'car_park_type': 'SURFACE CAR PARK', 'type_of_parking_system': 'ELECTRONIC PARKING', 'short_term_parking': 'WHOLE DAY', 'free_parking': 'SUN & PH FR 7AM-10.30PM', 'night_parking': 'YES', 'car_park_decks': '0', 'gantry_height': '0', 'car_park_basement': 'N'}, {'_id': 83, 'car_park_no': 'A59', 'address': 'BLK 547/551 ANG MO KIO STREET 54', 'x_coord': '30762.295', 'y_coord': '39543.9937', 'car_park_type': 'SURFACE CAR PARK', 'type_of_parking_system': 'ELECTRONIC PARKING', 'short_term_parking': 'WHOLE DAY', 'free_parking': 'SUN & PH FR 7AM-10.30PM', 'night_parking': 'YES', 'car_park_decks': '0', 'gantry_height': '3.8', 'car_park_basement': 'N'}, {'_id': 84, 'car_park_no': 'A60', 'address': 'BLK 540/546 ANG MO KIO STREET 54', 'x_coord': '30514.5273', 'y_coord': '39606.8281', 'car_park_type': 'SURFACE CAR PARK', 'type_of_parking_system': 'ELECTRONIC PARKING', 'short_term_parking': 'WHOLE DAY', 'free_parking': 'SUN & PH FR 7AM-10.30PM', 'night_parking': 'YES', 'car_park_decks': '0', 'gantry_height': '4.5', 'car_park_basement': 'N'}, {'_id': 85, 'car_park_no': 'A61', 'address': 'BLK 520/534/529 ANG MO KIO AVENUE 5/10', 'x_coord': '30096.82', 'y_coord': '39574.31', 'car_park_type': 'SURFACE CAR PARK', 'type_of_parking_system': 'ELECTRONIC PARKING', 'short_term_parking': 'WHOLE DAY', 'free_parking': 'SUN & PH FR 7AM-10.30PM', 'night_parking': 'YES', 'car_park_decks': '0', 'gantry_height': '9.99', 'car_park_basement': 'N'}, {'_id': 86, 'car_park_no': 'A63', 'address': 'BLK 501/513/508 ANG MO KIO STREET 52/53', 'x_coord': '29789.5613', 'y_coord': '39690.0448', 'car_park_type': 'SURFACE CAR PARK', 'type_of_parking_system': 'ELECTRONIC PARKING', 'short_term_parking': 'WHOLE DAY', 'free_parking': 'SUN & PH FR 7AM-10.30PM', 'night_parking': 'YES', 'car_park_decks': '0', 'gantry_height': '5.4', 'car_park_basement': 'N'}, {'_id': 87, 'car_park_no': 'A64', 'address': 'BLK 584/586 ANG MO KIO STREET 51', 'x_coord': '30241.6957', 'y_coord': '39172.3075', 'car_park_type': 'SURFACE CAR PARK', 'type_of_parking_system': 'ELECTRONIC PARKING', 'short_term_parking': 'WHOLE DAY', 'free_parking': 'SUN & PH FR 7AM-10.30PM', 'night_parking': 'YES', 'car_park_decks': '0', 'gantry_height': '5.4', 'car_park_basement': 'N'}, {'_id': 88, 'car_park_no': 'A65', 'address': 'BLK 558/560 ANG MO KIO STREET 54', 'x_coord': '30904.46', 'y_coord': '39226.97', 'car_park_type': 'SURFACE CAR PARK', 'type_of_parking_system': 'ELECTRONIC PARKING', 'short_term_parking': 'WHOLE DAY', 'free_parking': 'SUN & PH FR 7AM-10.30PM', 'night_parking': 'YES', 'car_park_decks': '0', 'gantry_height': '4.5', 'car_park_basement': 'N'}, {'_id': 89, 'car_park_no': 'A66', 'address': 'BLK 601/604/603 ANG MO KIO AVENUE 5', 'x_coord': '28260.64', 'y_coord': '40279.16', 'car_park_type': 'SURFACE CAR PARK', 'type_of_parking_system': 'ELECTRONIC PARKING', 'short_term_parking': 'WHOLE DAY', 'free_parking': 'SUN & PH FR 7AM-10.30PM', 'night_parking': 'YES', 'car_park_decks': '0', 'gantry_height': '5.4', 'car_park_basement': 'N'}, {'_id': 90, 'car_park_no': 'A67', 'address': 'BLK 605/612 ANG MO KIO AVENUE 4/5', 'x_coord': '28499.27', 'y_coord': '40184.22', 'car_park_type': 'SURFACE CAR PARK', 'type_of_parking_system': 'ELECTRONIC PARKING', 'short_term_parking': 'WHOLE DAY', 'free_parking': 'SUN & PH FR 7AM-10.30PM', 'night_parking': 'YES', 'car_park_decks': '0', 'gantry_height': '0', 'car_park_basement': 'N'}, {'_id': 91, 'car_park_no': 'A68', 'address': 'BLK 620/624/626 ANG MO KIO STREET 61', 'x_coord': '28727.3335', 'y_coord': '40428.7342', 'car_park_type': 'SURFACE CAR PARK', 'type_of_parking_system': 'ELECTRONIC PARKING', 'short_term_parking': 'WHOLE DAY', 'free_parking': 'SUN & PH FR 7AM-10.30PM', 'night_parking': 'YES', 'car_park_decks': '0', 'gantry_height': '0', 'car_park_basement': 'N'}, {'_id': 92, 'car_park_no': 'A69', 'address': 'BLK 623/625/627 ANG MO KIO STREET 61', 'x_coord': '28960.06', 'y_coord': '40400.41', 'car_park_type': 'SURFACE CAR PARK', 'type_of_parking_system': 'ELECTRONIC PARKING', 'short_term_parking': 'WHOLE DAY', 'free_parking': 'SUN & PH FR 7AM-10.30PM', 'night_parking': 'YES', 'car_park_decks': '0', 'gantry_height': '5.4', 'car_park_basement': 'N'}, {'_id': 93, 'car_park_no': 'A7', 'address': 'BLK 212/213 ANG MO KIO STREET 23', 'x_coord': '28888.4313', 'y_coord': '38935.4059', 'car_park_type': 'SURFACE CAR PARK', 'type_of_parking_system': 'ELECTRONIC PARKING', 'short_term_parking': 'WHOLE DAY', 'free_parking': 'SUN & PH FR 7AM-10.30PM', 'night_parking': 'YES', 'car_park_decks': '0', 'gantry_height': '4.5', 'car_park_basement': 'N'}, {'_id': 94, 'car_park_no': 'A70', 'address': 'BLK 629/626 ANG MO KIO AVENUE 4', 'x_coord': '28755.4887', 'y_coord': '40287.5326', 'car_park_type': 'SURFACE CAR PARK', 'type_of_parking_system': 'ELECTRONIC PARKING', 'short_term_parking': 'WHOLE DAY', 'free_parking': 'SUN & PH FR 7AM-10.30PM', 'night_parking': 'YES', 'car_park_decks': '0', 'gantry_height': '9.99', 'car_park_basement': 'N'}, {'_id': 95, 'car_park_no': 'A71', 'address': 'BLK 628/632 ANG MO KIO STREET 61', 'x_coord': '28826.1219', 'y_coord': '40219.911', 'car_park_type': 'SURFACE CAR PARK', 'type_of_parking_system': 'ELECTRONIC PARKING', 'short_term_parking': 'WHOLE DAY', 'free_parking': 'SUN & PH FR 7AM-10.30PM', 'night_parking': 'YES', 'car_park_decks': '0', 'gantry_height': '5.4', 'car_park_basement': 'N'}, {'_id': 96, 'car_park_no': 'A72', 'address': 'BLK 633/640 ANG MO KIO STREET 61', 'x_coord': '29136.44', 'y_coord': '40303.05', 'car_park_type': 'SURFACE CAR PARK', 'type_of_parking_system': 'ELECTRONIC PARKING', 'short_term_parking': 'WHOLE DAY', 'free_parking': 'SUN & PH FR 7AM-10.30PM', 'night_parking': 'YES', 'car_park_decks': '0', 'gantry_height': '5.4', 'car_park_basement': 'N'}, {'_id': 97, 'car_park_no': 'A73', 'address': 'BLK 641/645 ANG MO KIO STREET 61', 'x_coord': '28835.3369', 'y_coord': '40091.5441', 'car_park_type': 'SURFACE CAR PARK', 'type_of_parking_system': 'ELECTRONIC PARKING', 'short_term_parking': 'WHOLE DAY', 'free_parking': 'SUN & PH FR 7AM-10.30PM', 'night_parking': 'YES', 'car_park_decks': '0', 'gantry_height': '0', 'car_park_basement': 'N'}, {'_id': 98, 'car_park_no': 'A74', 'address': 'BLK 646/649 ANG MO KIO STREET 61', 'x_coord': '29166.97', 'y_coord': '40069.8164', 'car_park_type': 'SURFACE CAR PARK', 'type_of_parking_system': 'ELECTRONIC PARKING', 'short_term_parking': 'WHOLE DAY', 'free_parking': 'SUN & PH FR 7AM-10.30PM', 'night_parking': 'YES', 'car_park_decks': '0', 'gantry_height': '0', 'car_park_basement': 'N'}, {'_id': 99, 'car_park_no': 'A75', 'address': 'BLK 177/182 ANG MO KIO AVENUE 4', 'x_coord': '28597.1669', 'y_coord': '39798.961', 'car_park_type': 'SURFACE CAR PARK', 'type_of_parking_system': 'ELECTRONIC PARKING', 'short_term_parking': 'WHOLE DAY', 'free_parking': 'SUN & PH FR 7AM-10.30PM', 'night_parking': 'YES', 'car_park_decks': '0', 'gantry_height': '4.5', 'car_park_basement': 'N'}, {'_id': 100, 'car_park_no': 'A76', 'address': 'BLK 613A ANG MO KIO AVENUE 4', 'x_coord': '28613.8871', 'y_coord': '39995.2242', 'car_park_type': 'MULTI-STOREY CAR PARK', 'type_of_parking_system': 'ELECTRONIC PARKING', 'short_term_parking': 'WHOLE DAY', 'free_parking': 'NO', 'night_parking': 'YES', 'car_park_decks': '9', 'gantry_height': '2', 'car_park_basement': 'N'}], '_links': {'start': '/api/action/datastore_search?resource_id=d_23f946fa557947f93a8043bbef41dd09', 'next': '/api/action/datastore_search?resource_id=d_23f946fa557947f93a8043bbef41dd09&offset=100'}, 'total': 2248}}\n"
     ]
    }
   ],
   "source": [
    "import requests\n",
    "import json\n",
    "from airflow.providers.google.cloud.hooks.gcs import GCSHook\n",
    "from google.cloud import storage\n",
    "import pandas as pd \n",
    "          \n",
    "dataset_id = \"d_23f946fa557947f93a8043bbef41dd09\"\n",
    "url = \"https://data.gov.sg/api/action/datastore_search?resource_id=\"  + dataset_id\n",
    "        \n",
    "response = requests.get(url)\n",
    "print(response.json())"
   ]
  },
  {
   "cell_type": "code",
   "execution_count": 24,
   "metadata": {},
   "outputs": [
    {
     "data": {
      "text/html": [
       "<div>\n",
       "<style scoped>\n",
       "    .dataframe tbody tr th:only-of-type {\n",
       "        vertical-align: middle;\n",
       "    }\n",
       "\n",
       "    .dataframe tbody tr th {\n",
       "        vertical-align: top;\n",
       "    }\n",
       "\n",
       "    .dataframe thead th {\n",
       "        text-align: right;\n",
       "    }\n",
       "</style>\n",
       "<table border=\"1\" class=\"dataframe\">\n",
       "  <thead>\n",
       "    <tr style=\"text-align: right;\">\n",
       "      <th></th>\n",
       "      <th>_id</th>\n",
       "      <th>car_park_no</th>\n",
       "      <th>address</th>\n",
       "      <th>x_coord</th>\n",
       "      <th>y_coord</th>\n",
       "      <th>car_park_type</th>\n",
       "      <th>type_of_parking_system</th>\n",
       "      <th>short_term_parking</th>\n",
       "      <th>free_parking</th>\n",
       "      <th>night_parking</th>\n",
       "      <th>car_park_decks</th>\n",
       "      <th>gantry_height</th>\n",
       "      <th>car_park_basement</th>\n",
       "    </tr>\n",
       "  </thead>\n",
       "  <tbody>\n",
       "    <tr>\n",
       "      <th>0</th>\n",
       "      <td>1</td>\n",
       "      <td>ACB</td>\n",
       "      <td>BLK 270/271 ALBERT CENTRE BASEMENT CAR PARK</td>\n",
       "      <td>30314.7936</td>\n",
       "      <td>31490.4942</td>\n",
       "      <td>BASEMENT CAR PARK</td>\n",
       "      <td>ELECTRONIC PARKING</td>\n",
       "      <td>WHOLE DAY</td>\n",
       "      <td>NO</td>\n",
       "      <td>YES</td>\n",
       "      <td>1</td>\n",
       "      <td>1.8</td>\n",
       "      <td>Y</td>\n",
       "    </tr>\n",
       "    <tr>\n",
       "      <th>1</th>\n",
       "      <td>2</td>\n",
       "      <td>ACM</td>\n",
       "      <td>BLK 98A ALJUNIED CRESCENT</td>\n",
       "      <td>33758.4143</td>\n",
       "      <td>33695.5198</td>\n",
       "      <td>MULTI-STOREY CAR PARK</td>\n",
       "      <td>ELECTRONIC PARKING</td>\n",
       "      <td>WHOLE DAY</td>\n",
       "      <td>SUN &amp; PH FR 7AM-10.30PM</td>\n",
       "      <td>YES</td>\n",
       "      <td>5</td>\n",
       "      <td>2.1</td>\n",
       "      <td>N</td>\n",
       "    </tr>\n",
       "    <tr>\n",
       "      <th>2</th>\n",
       "      <td>3</td>\n",
       "      <td>AH1</td>\n",
       "      <td>BLK 101 JALAN DUSUN</td>\n",
       "      <td>29257.7203</td>\n",
       "      <td>34500.3599</td>\n",
       "      <td>SURFACE CAR PARK</td>\n",
       "      <td>ELECTRONIC PARKING</td>\n",
       "      <td>WHOLE DAY</td>\n",
       "      <td>SUN &amp; PH FR 7AM-10.30PM</td>\n",
       "      <td>YES</td>\n",
       "      <td>0</td>\n",
       "      <td>0</td>\n",
       "      <td>N</td>\n",
       "    </tr>\n",
       "    <tr>\n",
       "      <th>3</th>\n",
       "      <td>4</td>\n",
       "      <td>AK19</td>\n",
       "      <td>BLOCK 253 ANG MO KIO STREET 21</td>\n",
       "      <td>28185.4359</td>\n",
       "      <td>39012.6664</td>\n",
       "      <td>SURFACE CAR PARK</td>\n",
       "      <td>COUPON PARKING</td>\n",
       "      <td>7AM-7PM</td>\n",
       "      <td>NO</td>\n",
       "      <td>NO</td>\n",
       "      <td>0</td>\n",
       "      <td>0</td>\n",
       "      <td>N</td>\n",
       "    </tr>\n",
       "    <tr>\n",
       "      <th>4</th>\n",
       "      <td>5</td>\n",
       "      <td>AK31</td>\n",
       "      <td>BLK 302/348 ANG MO KIO STREET 31</td>\n",
       "      <td>29482.029</td>\n",
       "      <td>38684.1754</td>\n",
       "      <td>SURFACE CAR PARK</td>\n",
       "      <td>COUPON PARKING</td>\n",
       "      <td>NO</td>\n",
       "      <td>NO</td>\n",
       "      <td>NO</td>\n",
       "      <td>0</td>\n",
       "      <td>0</td>\n",
       "      <td>N</td>\n",
       "    </tr>\n",
       "  </tbody>\n",
       "</table>\n",
       "</div>"
      ],
      "text/plain": [
       "   _id car_park_no                                      address     x_coord  \\\n",
       "0    1         ACB  BLK 270/271 ALBERT CENTRE BASEMENT CAR PARK  30314.7936   \n",
       "1    2         ACM                    BLK 98A ALJUNIED CRESCENT  33758.4143   \n",
       "2    3         AH1                          BLK 101 JALAN DUSUN  29257.7203   \n",
       "3    4        AK19               BLOCK 253 ANG MO KIO STREET 21  28185.4359   \n",
       "4    5        AK31             BLK 302/348 ANG MO KIO STREET 31   29482.029   \n",
       "\n",
       "      y_coord          car_park_type type_of_parking_system  \\\n",
       "0  31490.4942      BASEMENT CAR PARK     ELECTRONIC PARKING   \n",
       "1  33695.5198  MULTI-STOREY CAR PARK     ELECTRONIC PARKING   \n",
       "2  34500.3599       SURFACE CAR PARK     ELECTRONIC PARKING   \n",
       "3  39012.6664       SURFACE CAR PARK         COUPON PARKING   \n",
       "4  38684.1754       SURFACE CAR PARK         COUPON PARKING   \n",
       "\n",
       "  short_term_parking             free_parking night_parking car_park_decks  \\\n",
       "0          WHOLE DAY                       NO           YES              1   \n",
       "1          WHOLE DAY  SUN & PH FR 7AM-10.30PM           YES              5   \n",
       "2          WHOLE DAY  SUN & PH FR 7AM-10.30PM           YES              0   \n",
       "3            7AM-7PM                       NO            NO              0   \n",
       "4                 NO                       NO            NO              0   \n",
       "\n",
       "  gantry_height car_park_basement  \n",
       "0           1.8                 Y  \n",
       "1           2.1                 N  \n",
       "2             0                 N  \n",
       "3             0                 N  \n",
       "4             0                 N  "
      ]
     },
     "execution_count": 24,
     "metadata": {},
     "output_type": "execute_result"
    }
   ],
   "source": [
    "data = response.json()['result']['records']\n",
    "\n",
    "df = pd.DataFrame(data)\n",
    "df.head()"
   ]
  },
  {
   "cell_type": "code",
   "execution_count": 25,
   "metadata": {},
   "outputs": [],
   "source": [
    "BUCKET_NAME = \"de-zoomcamp-project-453801-terra-bucket\"\n",
    "KEY_PATH = \"/home/chenchen/.gc/my-creds.json\""
   ]
  },
  {
   "cell_type": "code",
   "execution_count": 26,
   "metadata": {},
   "outputs": [],
   "source": [
    "\n",
    "def upload_to_gcs(bucket_name, destination_blob_name, data):\n",
    "    \"\"\"Upload JSON data to Google Cloud Storage.\"\"\"\n",
    "    storage_client = storage.Client.from_service_account_json(KEY_PATH)\n",
    "    bucket = storage_client.bucket(bucket_name)\n",
    "    blob = bucket.blob(destination_blob_name)\n",
    "    \n",
    "    # Upload JSON string\n",
    "    blob.upload_from_string(data, content_type=\"text/csv\")\n",
    "    print(f\"Data successfully uploaded to GCS: {destination_blob_name}\")"
   ]
  },
  {
   "cell_type": "code",
   "execution_count": 28,
   "metadata": {},
   "outputs": [
    {
     "name": "stdout",
     "output_type": "stream",
     "text": [
      "Data successfully uploaded to GCS: carpark_data/CarparkInformation.csv\n"
     ]
    }
   ],
   "source": [
    "try: \n",
    "    csv_data = df.to_csv(index=False)\n",
    "    GCS_FILE_PATH = f\"carpark_data/CarparkInformation.csv\"  # File named as the execution date\n",
    "\n",
    "    # Upload CSV to GCS\n",
    "    upload_to_gcs(BUCKET_NAME, GCS_FILE_PATH, csv_data)\n",
    "\n",
    "except Exception as e:\n",
    "    print(f\"Error processing data: {e}\")"
   ]
  },
  {
   "cell_type": "code",
   "execution_count": null,
   "metadata": {},
   "outputs": [],
   "source": []
  }
 ],
 "metadata": {
  "kernelspec": {
   "display_name": "Python 3 (ipykernel)",
   "language": "python",
   "name": "python3"
  },
  "language_info": {
   "codemirror_mode": {
    "name": "ipython",
    "version": 3
   },
   "file_extension": ".py",
   "mimetype": "text/x-python",
   "name": "python",
   "nbconvert_exporter": "python",
   "pygments_lexer": "ipython3",
   "version": "3.12.7"
  }
 },
 "nbformat": 4,
 "nbformat_minor": 4
}
