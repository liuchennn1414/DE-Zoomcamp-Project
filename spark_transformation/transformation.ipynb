{
 "cells": [
  {
   "cell_type": "code",
   "execution_count": 1,
   "id": "3307b886",
   "metadata": {},
   "outputs": [],
   "source": [
    "import pyspark\n",
    "from pyspark.sql import SparkSession\n",
    "from pyspark.conf import SparkConf\n",
    "from pyspark.context import SparkContext\n",
    "from pyspark.sql import types"
   ]
  },
  {
   "cell_type": "code",
   "execution_count": 2,
   "id": "6e9eba8c-5067-4696-bc95-f00617c5adc5",
   "metadata": {},
   "outputs": [
    {
     "name": "stdout",
     "output_type": "stream",
     "text": [
      "25/03/22 09:22:50 WARN NativeCodeLoader: Unable to load native-hadoop library for your platform... using builtin-java classes where applicable\n"
     ]
    },
    {
     "name": "stderr",
     "output_type": "stream",
     "text": [
      "Setting default log level to \"WARN\".\n",
      "To adjust logging level use sc.setLogLevel(newLevel). For SparkR, use setLogLevel(newLevel).\n"
     ]
    }
   ],
   "source": [
    "spark = SparkSession.builder \\\n",
    "    .appName(\"Data_Transformation\") \\\n",
    "    .config(\"spark.hadoop.fs.gs.impl\", \"com.google.cloud.hadoop.fs.gcs.GoogleHadoopFileSystem\") \\\n",
    "    .config(\"spark.jars\", \"gcs-connector-hadoop3-latest.jar,spark-bigquery-latest_2.12.jar\") \\\n",
    "    .config(\"spark.hadoop.google.cloud.auth.service.account.enable\", \"true\") \\\n",
    "    .config(\"spark.hadoop.google.cloud.auth.service.account.json.keyfile\", \"/home/chenchen/.gc/my-creds.json\") \\\n",
    "    .getOrCreate()"
   ]
  },
  {
   "cell_type": "code",
   "execution_count": 4,
   "id": "ffa6a2bc-3311-4903-97b5-b4ef134b5509",
   "metadata": {},
   "outputs": [
    {
     "name": "stderr",
     "output_type": "stream",
     "text": [
      "                                                                                \r"
     ]
    }
   ],
   "source": [
    "carpark_info = spark.read \\\n",
    "    .option(\"header\", \"true\") \\\n",
    "    .option(\"inferSchema\", \"true\") \\\n",
    "    .csv(\"gs://de-zoomcamp-project-453801-terra-bucket/carpark_info/CarparkInformation.csv\") "
   ]
  },
  {
   "cell_type": "code",
   "execution_count": 5,
   "id": "104b40ab",
   "metadata": {},
   "outputs": [
    {
     "name": "stdout",
     "output_type": "stream",
     "text": [
      "+---+-----------+--------------------+----------+----------+--------------------+----------------------+------------------+--------------------+-------------+--------------+-------------+-----------------+\n",
      "|_id|car_park_no|             address|   x_coord|   y_coord|       car_park_type|type_of_parking_system|short_term_parking|        free_parking|night_parking|car_park_decks|gantry_height|car_park_basement|\n",
      "+---+-----------+--------------------+----------+----------+--------------------+----------------------+------------------+--------------------+-------------+--------------+-------------+-----------------+\n",
      "|  1|        ACB|BLK 270/271 ALBER...|30314.7936|31490.4942|   BASEMENT CAR PARK|    ELECTRONIC PARKING|         WHOLE DAY|                  NO|          YES|             1|          1.8|                Y|\n",
      "|  2|        ACM|BLK 98A ALJUNIED ...|33758.4143|33695.5198|MULTI-STOREY CAR ...|    ELECTRONIC PARKING|         WHOLE DAY|SUN & PH FR 7AM-1...|          YES|             5|          2.1|                N|\n",
      "|  3|        AH1| BLK 101 JALAN DUSUN|29257.7203|34500.3599|    SURFACE CAR PARK|    ELECTRONIC PARKING|         WHOLE DAY|SUN & PH FR 7AM-1...|          YES|             0|          0.0|                N|\n",
      "|  4|       AK19|BLOCK 253 ANG MO ...|28185.4359|39012.6664|    SURFACE CAR PARK|        COUPON PARKING|           7AM-7PM|                  NO|           NO|             0|          0.0|                N|\n",
      "|  5|       AK31|BLK 302/348 ANG M...| 29482.029|38684.1754|    SURFACE CAR PARK|        COUPON PARKING|                NO|                  NO|           NO|             0|          0.0|                N|\n",
      "+---+-----------+--------------------+----------+----------+--------------------+----------------------+------------------+--------------------+-------------+--------------+-------------+-----------------+\n",
      "only showing top 5 rows\n",
      "\n"
     ]
    }
   ],
   "source": [
    "carpark_info.show(5)"
   ]
  },
  {
   "cell_type": "code",
   "execution_count": 7,
   "id": "1109b41d-6582-4a09-93f9-c099f8231917",
   "metadata": {},
   "outputs": [
    {
     "name": "stderr",
     "output_type": "stream",
     "text": [
      "                                                                                \r"
     ]
    }
   ],
   "source": [
    "carpark_details = spark.read \\\n",
    "    .option(\"header\", \"true\") \\\n",
    "    .option(\"inferSchema\", \"true\") \\\n",
    "    .csv(\"gs://de-zoomcamp-project-453801-terra-bucket/carpark_data/*.csv\") "
   ]
  },
  {
   "cell_type": "code",
   "execution_count": 8,
   "id": "5eadbcd7-cd90-4fd6-8c4a-1306ba032799",
   "metadata": {},
   "outputs": [
    {
     "name": "stdout",
     "output_type": "stream",
     "text": [
      "+---------------+-------------+-------------------+--------------+-------------------+-------------------+\n",
      "|info_total_lots|info_lot_type|info_lots_available|carpark_number|    update_datetime|          timestamp|\n",
      "+---------------+-------------+-------------------+--------------+-------------------+-------------------+\n",
      "|            105|            C|                  0|          HE12|2023-01-01 08:58:22|2023-01-01 00:59:27|\n",
      "|            583|            C|                435|           HLM|2023-01-01 08:58:34|2023-01-01 00:59:27|\n",
      "|            329|            C|                 83|           RHM|2023-01-01 08:58:22|2023-01-01 00:59:27|\n",
      "|             97|            C|                 59|          BM29|2023-01-01 08:58:39|2023-01-01 00:59:27|\n",
      "|             96|            C|                 35|           Q81|2023-01-01 08:58:18|2023-01-01 00:59:27|\n",
      "+---------------+-------------+-------------------+--------------+-------------------+-------------------+\n",
      "only showing top 5 rows\n",
      "\n"
     ]
    }
   ],
   "source": [
    "carpark_details.show(5) "
   ]
  },
  {
   "cell_type": "code",
   "execution_count": 16,
   "id": "4702d65c-9b97-4bef-9999-5615742d0fa1",
   "metadata": {},
   "outputs": [
    {
     "name": "stdout",
     "output_type": "stream",
     "text": [
      "+---------------+-------------+-------------------+--------------+-------------------+-------------------+\n",
      "|info_total_lots|info_lot_type|info_lots_available|carpark_number|    update_datetime|          timestamp|\n",
      "+---------------+-------------+-------------------+--------------+-------------------+-------------------+\n",
      "|            105|            C|                  0|          HE12|2023-01-01 08:58:22|2023-01-01 00:59:27|\n",
      "|            583|            C|                435|           HLM|2023-01-01 08:58:34|2023-01-01 00:59:27|\n",
      "|            329|            C|                 83|           RHM|2023-01-01 08:58:22|2023-01-01 00:59:27|\n",
      "|             97|            C|                 59|          BM29|2023-01-01 08:58:39|2023-01-01 00:59:27|\n",
      "|             96|            C|                 35|           Q81|2023-01-01 08:58:18|2023-01-01 00:59:27|\n",
      "+---------------+-------------+-------------------+--------------+-------------------+-------------------+\n",
      "only showing top 5 rows\n",
      "\n"
     ]
    }
   ],
   "source": [
    "from pyspark.sql.functions import col, expr, to_timestamp, date_format, trunc, lit, avg \n",
    "from pyspark.sql import functions as F\n",
    "from pyspark.sql.types import DateType\n",
    "\n",
    "carpark_details = carpark_details.withColumn(\"update_datetime\", to_timestamp(col(\"update_datetime\")))\\\n",
    "                                 .withColumn(\"timestamp\", to_timestamp(col(\"timestamp\")))\n",
    "carpark_details.show(5) "
   ]
  },
  {
   "cell_type": "code",
   "execution_count": 11,
   "id": "46c5cc36-0157-466a-992d-81b7d8a18b75",
   "metadata": {},
   "outputs": [
    {
     "name": "stdout",
     "output_type": "stream",
     "text": [
      "+---------------+-------------+-------------------+--------------+-------------------+-------------------+----+-----------+-------+-------+-------+-------------+----------------------+------------------+------------+-------------+--------------+-------------+-----------------+\n",
      "|info_total_lots|info_lot_type|info_lots_available|carpark_number|    update_datetime|          timestamp| _id|car_park_no|address|x_coord|y_coord|car_park_type|type_of_parking_system|short_term_parking|free_parking|night_parking|car_park_decks|gantry_height|car_park_basement|\n",
      "+---------------+-------------+-------------------+--------------+-------------------+-------------------+----+-----------+-------+-------+-------+-------------+----------------------+------------------+------------+-------------+--------------+-------------+-----------------+\n",
      "|            105|            C|                  0|          HE12|2023-01-01 08:58:22|2023-01-01 00:59:27|null|       null|   null|   null|   null|         null|                  null|              null|        null|         null|          null|         null|             null|\n",
      "|            583|            C|                435|           HLM|2023-01-01 08:58:34|2023-01-01 00:59:27|null|       null|   null|   null|   null|         null|                  null|              null|        null|         null|          null|         null|             null|\n",
      "|            329|            C|                 83|           RHM|2023-01-01 08:58:22|2023-01-01 00:59:27|null|       null|   null|   null|   null|         null|                  null|              null|        null|         null|          null|         null|             null|\n",
      "|             97|            C|                 59|          BM29|2023-01-01 08:58:39|2023-01-01 00:59:27|null|       null|   null|   null|   null|         null|                  null|              null|        null|         null|          null|         null|             null|\n",
      "|             96|            C|                 35|           Q81|2023-01-01 08:58:18|2023-01-01 00:59:27|null|       null|   null|   null|   null|         null|                  null|              null|        null|         null|          null|         null|             null|\n",
      "+---------------+-------------+-------------------+--------------+-------------------+-------------------+----+-----------+-------+-------+-------+-------------+----------------------+------------------+------------+-------------+--------------+-------------+-----------------+\n",
      "only showing top 5 rows\n",
      "\n"
     ]
    }
   ],
   "source": [
    "# Join carpark_info with carpark_details\n",
    "carpark_df = carpark_details.join(carpark_info, carpark_details.carpark_number == carpark_info.car_park_no, \"left\")\n",
    "carpark_df.show(5) "
   ]
  },
  {
   "cell_type": "code",
   "execution_count": 12,
   "id": "0ab6ab7b-6f00-4181-a4b4-681e0296120e",
   "metadata": {},
   "outputs": [],
   "source": [
    "# Compute utilization rate\n",
    "carpark_df = carpark_df.withColumn(\n",
    "    \"utilization_rate\",\n",
    "    expr(\"(info_total_lots - info_lots_available) / info_total_lots * 100\")\n",
    ")"
   ]
  },
  {
   "cell_type": "code",
   "execution_count": 17,
   "id": "f3384bc8-7b73-433e-b429-e1d3089f6ab5",
   "metadata": {},
   "outputs": [],
   "source": [
    "carpark_df = carpark_df.withColumn(\"year_month\", date_format(trunc(col(\"timestamp\"), \"MM\"), \"yyyy-MM-01\"))\\\n",
    "                               .withColumn(\"day_of_week\", date_format(col(\"timestamp\"), \"EEEE\"))\n",
    "\n"
   ]
  },
  {
   "cell_type": "code",
   "execution_count": 18,
   "id": "7fb342cb-f900-4a9a-ba56-9e62d244d582",
   "metadata": {},
   "outputs": [
    {
     "name": "stdout",
     "output_type": "stream",
     "text": [
      "+---------------+-------------+-------------------+--------------+-------------------+-------------------+----+-----------+-------+-------+-------+-------------+----------------------+------------------+------------+-------------+--------------+-------------+-----------------+------------------+----+-----------+-------+----------+\n",
      "|info_total_lots|info_lot_type|info_lots_available|carpark_number|    update_datetime|          timestamp| _id|car_park_no|address|x_coord|y_coord|car_park_type|type_of_parking_system|short_term_parking|free_parking|night_parking|car_park_decks|gantry_height|car_park_basement|  utilization_rate|hour|day_of_week|  month|year_month|\n",
      "+---------------+-------------+-------------------+--------------+-------------------+-------------------+----+-----------+-------+-------+-------+-------------+----------------------+------------------+------------+-------------+--------------+-------------+-----------------+------------------+----+-----------+-------+----------+\n",
      "|            105|            C|                  0|          HE12|2023-01-01 08:58:22|2023-01-01 00:59:27|null|       null|   null|   null|   null|         null|                  null|              null|        null|         null|          null|         null|             null|             100.0|  00|     Sunday|January|2023-01-01|\n",
      "|            583|            C|                435|           HLM|2023-01-01 08:58:34|2023-01-01 00:59:27|null|       null|   null|   null|   null|         null|                  null|              null|        null|         null|          null|         null|             null| 25.38593481989708|  00|     Sunday|January|2023-01-01|\n",
      "|            329|            C|                 83|           RHM|2023-01-01 08:58:22|2023-01-01 00:59:27|null|       null|   null|   null|   null|         null|                  null|              null|        null|         null|          null|         null|             null| 74.77203647416414|  00|     Sunday|January|2023-01-01|\n",
      "|             97|            C|                 59|          BM29|2023-01-01 08:58:39|2023-01-01 00:59:27|null|       null|   null|   null|   null|         null|                  null|              null|        null|         null|          null|         null|             null|39.175257731958766|  00|     Sunday|January|2023-01-01|\n",
      "|             96|            C|                 35|           Q81|2023-01-01 08:58:18|2023-01-01 00:59:27|null|       null|   null|   null|   null|         null|                  null|              null|        null|         null|          null|         null|             null|63.541666666666664|  00|     Sunday|January|2023-01-01|\n",
      "+---------------+-------------+-------------------+--------------+-------------------+-------------------+----+-----------+-------+-------+-------+-------------+----------------------+------------------+------------+-------------+--------------+-------------+-----------------+------------------+----+-----------+-------+----------+\n",
      "only showing top 5 rows\n",
      "\n"
     ]
    }
   ],
   "source": [
    "carpark_df.show(5)"
   ]
  },
  {
   "cell_type": "code",
   "execution_count": 22,
   "id": "d8ef4eb5-296b-4c40-8e7f-7b704505b75a",
   "metadata": {},
   "outputs": [
    {
     "name": "stderr",
     "output_type": "stream",
     "text": [
      "[Stage 23:=============================>                            (2 + 2) / 4]\r"
     ]
    },
    {
     "name": "stdout",
     "output_type": "stream",
     "text": [
      "+--------------------+--------------+----------+-----------+-----------------+\n",
      "|       car_park_type|carpark_number|year_month|day_of_week|  avg_utilization|\n",
      "+--------------------+--------------+----------+-----------+-----------------+\n",
      "|    SURFACE CAR PARK|           A27|2023-01-01|     Sunday| 49.9601593625498|\n",
      "|    SURFACE CAR PARK|           A33|2023-01-01|  Wednesday|            100.0|\n",
      "|MULTI-STOREY CAR ...|           A76|2023-01-01|   Thursday|18.30684596577017|\n",
      "|    SURFACE CAR PARK|           A29|2023-02-01|  Wednesday|37.93103448275862|\n",
      "|    SURFACE CAR PARK|           A28|2023-02-01|   Saturday|85.41666666666667|\n",
      "+--------------------+--------------+----------+-----------+-----------------+\n",
      "only showing top 5 rows\n",
      "\n"
     ]
    },
    {
     "name": "stderr",
     "output_type": "stream",
     "text": [
      "                                                                                \r"
     ]
    }
   ],
   "source": [
    "# Compute average utilization rate per region and time period\n",
    "utilization_by_region = carpark_df.groupBy(\"car_park_type\",\"carpark_number\", \"year_month\", \"day_of_week\")\\\n",
    "                                      .agg(avg(\"utilization_rate\").alias(\"avg_utilization\"))\n",
    "\n",
    "# Show results\n",
    "utilization_by_region.show(5)"
   ]
  },
  {
   "cell_type": "code",
   "execution_count": 25,
   "id": "205e4a63-67d6-4050-a3bb-2f827d7f6eab",
   "metadata": {},
   "outputs": [
    {
     "name": "stderr",
     "output_type": "stream",
     "text": [
      "                                                                                \r"
     ]
    }
   ],
   "source": [
    "from pyspark.sql.functions import to_date\n",
    "\n",
    "# Convert year_month to DATE type\n",
    "utilization_by_region = utilization_by_region.withColumn(\"year_month\", to_date(col(\"year_month\"), \"yyyy-MM-dd\"))\n",
    "\n",
    "\n",
    "utilization_by_region.write \\\n",
    "    .format(\"bigquery\") \\\n",
    "    .option(\"temporaryGcsBucket\", \"de-zoomcamp-project-453801-terra-bucket\") \\\n",
    "    .option(\"table\", \"de-zoomcamp-project-453801.demo_dataset.utilization_by_region\") \\\n",
    "    .option(\"partitionField\", \"year_month\") \\\n",
    "    .mode(\"overwrite\") \\\n",
    "    .save()"
   ]
  },
  {
   "cell_type": "code",
   "execution_count": 26,
   "id": "9d2d3ac1-cd9e-4a2c-8b94-ac489fe8eb0e",
   "metadata": {},
   "outputs": [
    {
     "name": "stderr",
     "output_type": "stream",
     "text": [
      "                                                                                \r"
     ]
    }
   ],
   "source": [
    "carpark_details.write \\\n",
    "    .format(\"bigquery\") \\\n",
    "    .option(\"temporaryGcsBucket\", \"de-zoomcamp-project-453801-terra-bucket\") \\\n",
    "    .option(\"table\", \"de-zoomcamp-project-453801.demo_dataset.carpark_details\") \\\n",
    "    .option(\"partitionField\", \"timestamp\") \\\n",
    "    .mode(\"overwrite\") \\\n",
    "    .save()"
   ]
  },
  {
   "cell_type": "code",
   "execution_count": 27,
   "id": "68c17796-3dcc-4336-80ea-93f8e1a8a796",
   "metadata": {},
   "outputs": [
    {
     "name": "stderr",
     "output_type": "stream",
     "text": [
      "                                                                                \r"
     ]
    }
   ],
   "source": [
    "carpark_df.write \\\n",
    "    .format(\"bigquery\") \\\n",
    "    .option(\"temporaryGcsBucket\", \"de-zoomcamp-project-453801-terra-bucket\") \\\n",
    "    .option(\"table\", \"de-zoomcamp-project-453801.demo_dataset.carpark_data\") \\\n",
    "    .option(\"partitionField\", \"timestamp\") \\\n",
    "    .mode(\"overwrite\") \\\n",
    "    .save()"
   ]
  },
  {
   "cell_type": "code",
   "execution_count": null,
   "id": "442412a3-e040-4ced-9439-0da4489b4d4d",
   "metadata": {},
   "outputs": [],
   "source": []
  }
 ],
 "metadata": {
  "kernelspec": {
   "display_name": "Python 3 (ipykernel)",
   "language": "python",
   "name": "python3"
  },
  "language_info": {
   "codemirror_mode": {
    "name": "ipython",
    "version": 3
   },
   "file_extension": ".py",
   "mimetype": "text/x-python",
   "name": "python",
   "nbconvert_exporter": "python",
   "pygments_lexer": "ipython3",
   "version": "3.12.7"
  }
 },
 "nbformat": 4,
 "nbformat_minor": 5
}
