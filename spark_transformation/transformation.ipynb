{
 "cells": [
  {
   "cell_type": "code",
   "execution_count": 1,
   "id": "3307b886",
   "metadata": {},
   "outputs": [],
   "source": [
    "import pyspark\n",
    "from pyspark.sql import SparkSession\n",
    "from pyspark.conf import SparkConf\n",
    "from pyspark.context import SparkContext\n",
    "from pyspark.sql import types"
   ]
  },
  {
   "cell_type": "code",
   "execution_count": 2,
   "id": "0fc5bdb4-2d47-4eb7-a40f-b19b29eac684",
   "metadata": {},
   "outputs": [
    {
     "name": "stderr",
     "output_type": "stream",
     "text": [
      "Setting default log level to \"WARN\".\n",
      "To adjust logging level use sc.setLogLevel(newLevel). For SparkR, use setLogLevel(newLevel).\n"
     ]
    },
    {
     "name": "stdout",
     "output_type": "stream",
     "text": [
      "25/03/17 13:21:02 WARN NativeCodeLoader: Unable to load native-hadoop library for your platform... using builtin-java classes where applicable\n"
     ]
    }
   ],
   "source": [
    "spark = SparkSession.builder \\\n",
    "    .appName(\"GCS_Spark_Read\") \\\n",
    "    .config(\"spark.hadoop.fs.gs.impl\", \"com.google.cloud.hadoop.fs.gcs.GoogleHadoopFileSystem\") \\\n",
    "    .getOrCreate()"
   ]
  },
  {
   "cell_type": "code",
   "execution_count": 35,
   "id": "ffa6a2bc-3311-4903-97b5-b4ef134b5509",
   "metadata": {},
   "outputs": [
    {
     "name": "stderr",
     "output_type": "stream",
     "text": [
      "                                                                                \r"
     ]
    }
   ],
   "source": [
    "df = spark.read \\\n",
    "    .option(\"header\", \"true\") \\\n",
    "    .option(\"inferSchema\", \"true\") \\\n",
    "    .option(\"compression\", \"gzip\") \\\n",
    "    .option(\"encoding\", \"us-ascii\") \\\n",
    "    .csv(\"gs://de-zoomcamp-project-453801-terra-bucket/stock_dataset/stock/1742135256.3842237.3b60b69d81.csv.gz\") "
   ]
  },
  {
   "cell_type": "code",
   "execution_count": 36,
   "id": "104b40ab",
   "metadata": {},
   "outputs": [
    {
     "name": "stdout",
     "output_type": "stream",
     "text": [
      "+-------+--------+------+------+-----------+--------+--------+---------+--------+-----------+------------+--------+------+--------+-------------------+--------------------+--------------+\n",
      "|   open|    high|   low| close|     volume|adj_high| adj_low|adj_close|adj_open| adj_volume|split_factor|dividend|symbol|exchange|               date|        _dlt_load_id|       _dlt_id|\n",
      "+-------+--------+------+------+-----------+--------+--------+---------+--------+-----------+------------+--------+------+--------+-------------------+--------------------+--------------+\n",
      "|379.775|  390.23|379.51|388.56|1.9952846E7|  390.23|  379.51|   388.56| 379.775|1.9952846E7|         1.0|     0.0|  MSFT|    XNAS|2025-03-14 00:00:00|1.7421352563842237E9|Yop916yQPrfOeA|\n",
      "| 211.25|  213.95|209.58|213.49|6.0107582E7|  213.95|  209.58|   213.49|  211.25|6.0107582E7|         1.0|     0.0|  AAPL|    XNAS|2025-03-14 00:00:00|1.7421352563842237E9|FHdPOLiabPdEBQ|\n",
      "| 215.94|216.8394|208.42|209.68|6.0306872E7|216.8394|  208.42|   209.68|  215.95| 6.136833E7|         1.0|     0.0|  AAPL|    XNAS|2025-03-13 00:00:00|1.7421352563842237E9|qErWPnOMnZ0CJA|\n",
      "|383.155|385.3099|377.45|378.77| 2.028023E7|  385.32|  377.45|   378.77| 383.155|2.0473017E7|         1.0|     0.0|  MSFT|    XNAS|2025-03-13 00:00:00|1.7421352563842237E9|V9S6+UaK7EI6dA|\n",
      "| 382.95|  385.22|378.95|383.27|  2.42139E7|385.2165|378.9507|   383.27|  382.95|2.4253567E7|         1.0|     0.0|  MSFT|    XNAS|2025-03-12 00:00:00|1.7421352563842237E9|aE8R/MU7DQDeQw|\n",
      "+-------+--------+------+------+-----------+--------+--------+---------+--------+-----------+------------+--------+------+--------+-------------------+--------------------+--------------+\n",
      "only showing top 5 rows\n",
      "\n"
     ]
    }
   ],
   "source": [
    "df.show(5)"
   ]
  },
  {
   "cell_type": "code",
   "execution_count": 37,
   "id": "f56a885d",
   "metadata": {},
   "outputs": [
    {
     "name": "stdout",
     "output_type": "stream",
     "text": [
      "+------+----------+------------------+--------+-------+------------------+----------+------------------+-----------+------------------+------------------+--------------------+----------------+--------------------+\n",
      "|symbol|year_month|          avg_open|max_high|min_low|         avg_close|max_volume|      avg_adj_high|min_adj_low|     avg_adj_close|      avg_adj_open|      avg_adj_volume|avg_split_factor|        avg_dividend|\n",
      "+------+----------+------------------+--------+-------+------------------+----------+------------------+-----------+------------------+------------------+--------------------+----------------+--------------------+\n",
      "|  MSFT|   2024-06| 436.7971052631579|  456.16| 408.92| 438.3421052631579| 3.41871E7| 440.3619789473684|   408.9234| 438.3421052631579| 436.7821052631579| 1.801949505263158E7|             1.0|                 0.0|\n",
      "|  MSFT|   2024-12|438.82166666666683|456.1648| 420.66|439.40857142857135| 6.42352E7|443.16800952380953|     420.66|439.40857142857135|438.80023809523817|2.0948011666666668E7|             1.0|                 0.0|\n",
      "|  AAPL|   2024-06|206.01236842105263|   220.2| 192.15|206.26315789473685|2.418051E8|209.03628947368418|     192.15|206.26315789473685|205.99421052631578| 9.073602210526316E7|             1.0|                 0.0|\n",
      "|  AAPL|   2025-02|237.32568421052628|  249.98| 225.71| 238.5136842105263|7.007818E7|240.58657368421055|      225.7|238.50052631578944|237.37368421052628|  4.53851062631579E7|             1.0|0.013157894736842105|\n",
      "|  AAPL|   2024-04|169.65188636363638|  178.36| 164.08|169.60454545454547|1.015933E8|171.29227272727272|    164.075|169.60454545454547|169.66090909090914| 5.638230322727273E7|             1.0|                 0.0|\n",
      "+------+----------+------------------+--------+-------+------------------+----------+------------------+-----------+------------------+------------------+--------------------+----------------+--------------------+\n",
      "only showing top 5 rows\n",
      "\n"
     ]
    }
   ],
   "source": [
    "from pyspark.sql import functions as F\n",
    "from pyspark.sql.types import DateType\n",
    "\n",
    "# Assuming you have the DataFrame loaded as `df`\n",
    "\n",
    "# Convert the 'date' column to a proper Date type (if it's not already)\n",
    "df = df.withColumn(\"date\", F.to_date(df[\"date\"], \"yyyy-MM-dd\"))\n",
    "\n",
    "# Extract year and month from the date to perform monthly aggregation\n",
    "df = df.withColumn(\"year_month\", F.date_format(\"date\", \"yyyy-MM\"))\n",
    "\n",
    "# Group by 'symbol' and 'year_month' and calculate the required aggregates\n",
    "monthly_df = df.groupBy(\"symbol\", \"year_month\") \\\n",
    "    .agg(\n",
    "        F.avg(\"open\").alias(\"avg_open\"),\n",
    "        F.max(\"high\").alias(\"max_high\"),\n",
    "        F.min(\"low\").alias(\"min_low\"),\n",
    "        F.avg(\"close\").alias(\"avg_close\"),\n",
    "        F.max(\"volume\").alias(\"max_volume\"),\n",
    "        F.avg(\"adj_high\").alias(\"avg_adj_high\"),\n",
    "        F.min(\"adj_low\").alias(\"min_adj_low\"),\n",
    "        F.avg(\"adj_close\").alias(\"avg_adj_close\"),\n",
    "        F.avg(\"adj_open\").alias(\"avg_adj_open\"),\n",
    "        F.avg(\"adj_volume\").alias(\"avg_adj_volume\"),\n",
    "        F.avg(\"split_factor\").alias(\"avg_split_factor\"),\n",
    "        F.avg(\"dividend\").alias(\"avg_dividend\")\n",
    "    )\n",
    "\n",
    "# Show the result\n",
    "monthly_df.show(5)\n"
   ]
  },
  {
   "cell_type": "code",
   "execution_count": 40,
   "id": "61c37a45-e513-41bc-a7aa-b023061d2213",
   "metadata": {},
   "outputs": [
    {
     "name": "stdout",
     "output_type": "stream",
     "text": [
      "+------+---------+------------------+--------+-------+------------------+------------+------------------+-----------+------------------+------------------+--------------+----------------+------------+\n",
      "|symbol|year_week|          avg_open|max_high|min_low|         avg_close|  max_volume|      avg_adj_high|min_adj_low|     avg_adj_close|      avg_adj_open|avg_adj_volume|avg_split_factor|avg_dividend|\n",
      "+------+---------+------------------+--------+-------+------------------+------------+------------------+-----------+------------------+------------------+--------------+----------------+------------+\n",
      "|  AAPL|  2024-18|          175.1144|   187.0| 169.11|173.90400000000002|1.63224109E8|           176.828|     169.11|173.90400000000002|175.08700000000002|  8.83852732E7|             1.0|         0.0|\n",
      "|  AAPL|  2024-21|           190.502|192.8231|186.625|            190.23| 5.0481918E7|          191.8106|    186.625|            190.23|           190.496|  4.17304244E7|             1.0|         0.0|\n",
      "|  AAPL|  2024-33|220.83399999999997|  226.83|  215.6|222.25799999999998|   4.63353E7|223.32139999999998|      215.6|222.25799999999998|220.83399999999997|    4.297965E7|             1.0|        0.05|\n",
      "|  MSFT|  2024-19|410.79799999999994|  415.38| 406.47|           412.096| 1.7782855E7|413.78599999999994|   406.3701|           412.096|411.01900000000006|  1.53798366E7|             1.0|         0.0|\n",
      "|  MSFT|  2024-23| 419.1940000000001|  426.28| 408.92|420.39400000000006|   1.74342E7|421.70799999999997|   408.9234|420.39400000000006|           419.195|  1.54609062E7|             1.0|         0.0|\n",
      "+------+---------+------------------+--------+-------+------------------+------------+------------------+-----------+------------------+------------------+--------------+----------------+------------+\n",
      "only showing top 5 rows\n",
      "\n"
     ]
    }
   ],
   "source": [
    "# Extract the year and week number from the date\n",
    "df = df.withColumn(\"year\", F.year(df[\"date\"]))\n",
    "df = df.withColumn(\"week\", F.weekofyear(df[\"date\"]))\n",
    "\n",
    "# Combine year and week into a single column 'year_week' in \"yyyy-week\" format\n",
    "df = df.withColumn(\"year_week\", F.concat_ws(\"-\", df[\"year\"], df[\"week\"]))\n",
    "\n",
    "# Group by 'symbol' and 'year_week' and calculate the required aggregates\n",
    "weekly_df = df.groupBy(\"symbol\", \"year_week\") \\\n",
    "    .agg(\n",
    "        F.avg(\"open\").alias(\"avg_open\"),\n",
    "        F.max(\"high\").alias(\"max_high\"),\n",
    "        F.min(\"low\").alias(\"min_low\"),\n",
    "        F.avg(\"close\").alias(\"avg_close\"),\n",
    "        F.max(\"volume\").alias(\"max_volume\"),\n",
    "        F.avg(\"adj_high\").alias(\"avg_adj_high\"),\n",
    "        F.min(\"adj_low\").alias(\"min_adj_low\"),\n",
    "        F.avg(\"adj_close\").alias(\"avg_adj_close\"),\n",
    "        F.avg(\"adj_open\").alias(\"avg_adj_open\"),\n",
    "        F.avg(\"adj_volume\").alias(\"avg_adj_volume\"),\n",
    "        F.avg(\"split_factor\").alias(\"avg_split_factor\"),\n",
    "        F.avg(\"dividend\").alias(\"avg_dividend\")\n",
    "    )\n",
    "\n",
    "# Show the result\n",
    "weekly_df.show(5)\n"
   ]
  },
  {
   "cell_type": "code",
   "execution_count": 41,
   "id": "a3001afa-1889-4280-8c0b-748210a5418f",
   "metadata": {},
   "outputs": [
    {
     "ename": "Py4JJavaError",
     "evalue": "An error occurred while calling o376.save.\n: java.lang.ClassNotFoundException: \nFailed to find data source: bigquery. Please find packages at\nhttps://spark.apache.org/third-party-projects.html\n       \n\tat org.apache.spark.sql.errors.QueryExecutionErrors$.failedToFindDataSourceError(QueryExecutionErrors.scala:587)\n\tat org.apache.spark.sql.execution.datasources.DataSource$.lookupDataSource(DataSource.scala:675)\n\tat org.apache.spark.sql.execution.datasources.DataSource$.lookupDataSourceV2(DataSource.scala:725)\n\tat org.apache.spark.sql.DataFrameWriter.lookupV2Provider(DataFrameWriter.scala:864)\n\tat org.apache.spark.sql.DataFrameWriter.saveInternal(DataFrameWriter.scala:256)\n\tat org.apache.spark.sql.DataFrameWriter.save(DataFrameWriter.scala:247)\n\tat java.base/jdk.internal.reflect.NativeMethodAccessorImpl.invoke0(Native Method)\n\tat java.base/jdk.internal.reflect.NativeMethodAccessorImpl.invoke(NativeMethodAccessorImpl.java:62)\n\tat java.base/jdk.internal.reflect.DelegatingMethodAccessorImpl.invoke(DelegatingMethodAccessorImpl.java:43)\n\tat java.base/java.lang.reflect.Method.invoke(Method.java:566)\n\tat py4j.reflection.MethodInvoker.invoke(MethodInvoker.java:244)\n\tat py4j.reflection.ReflectionEngine.invoke(ReflectionEngine.java:357)\n\tat py4j.Gateway.invoke(Gateway.java:282)\n\tat py4j.commands.AbstractCommand.invokeMethod(AbstractCommand.java:132)\n\tat py4j.commands.CallCommand.execute(CallCommand.java:79)\n\tat py4j.ClientServerConnection.waitForCommands(ClientServerConnection.java:182)\n\tat py4j.ClientServerConnection.run(ClientServerConnection.java:106)\n\tat java.base/java.lang.Thread.run(Thread.java:834)\nCaused by: java.lang.ClassNotFoundException: bigquery.DefaultSource\n\tat java.base/java.net.URLClassLoader.findClass(URLClassLoader.java:471)\n\tat java.base/java.lang.ClassLoader.loadClass(ClassLoader.java:588)\n\tat java.base/java.lang.ClassLoader.loadClass(ClassLoader.java:521)\n\tat org.apache.spark.sql.execution.datasources.DataSource$.$anonfun$lookupDataSource$5(DataSource.scala:661)\n\tat scala.util.Try$.apply(Try.scala:213)\n\tat org.apache.spark.sql.execution.datasources.DataSource$.$anonfun$lookupDataSource$4(DataSource.scala:661)\n\tat scala.util.Failure.orElse(Try.scala:224)\n\tat org.apache.spark.sql.execution.datasources.DataSource$.lookupDataSource(DataSource.scala:661)\n\t... 16 more\n",
     "output_type": "error",
     "traceback": [
      "\u001b[0;31m---------------------------------------------------------------------------\u001b[0m",
      "\u001b[0;31mPy4JJavaError\u001b[0m                             Traceback (most recent call last)",
      "Cell \u001b[0;32mIn[41], line 8\u001b[0m\n\u001b[1;32m      1\u001b[0m \u001b[38;5;66;03m# monthly_df.write.format('bigquery') \\\u001b[39;00m\n\u001b[1;32m      2\u001b[0m \u001b[38;5;66;03m#     .option('table',monthly_stock_data) \\\u001b[39;00m\n\u001b[1;32m      3\u001b[0m \u001b[38;5;66;03m#     .save() \u001b[39;00m\n\u001b[1;32m      4\u001b[0m monthly_df\u001b[38;5;241m.\u001b[39mwrite \\\n\u001b[1;32m      5\u001b[0m     \u001b[38;5;241m.\u001b[39mformat(\u001b[38;5;124m\"\u001b[39m\u001b[38;5;124mbigquery\u001b[39m\u001b[38;5;124m\"\u001b[39m) \\\n\u001b[1;32m      6\u001b[0m     \u001b[38;5;241m.\u001b[39moption(\u001b[38;5;124m\"\u001b[39m\u001b[38;5;124mtable\u001b[39m\u001b[38;5;124m\"\u001b[39m, \u001b[38;5;124m\"\u001b[39m\u001b[38;5;124mde-zoomcamp-project-453801.demo_dataset.monthly_stock\u001b[39m\u001b[38;5;124m\"\u001b[39m) \\\n\u001b[1;32m      7\u001b[0m     \u001b[38;5;241m.\u001b[39mmode(\u001b[38;5;124m\"\u001b[39m\u001b[38;5;124moverwrite\u001b[39m\u001b[38;5;124m\"\u001b[39m) \\\n\u001b[0;32m----> 8\u001b[0m     \u001b[38;5;241m.\u001b[39msave()\n",
      "File \u001b[0;32m~/spark/spark-3.3.2-bin-hadoop3/python/pyspark/sql/readwriter.py:966\u001b[0m, in \u001b[0;36mDataFrameWriter.save\u001b[0;34m(self, path, format, mode, partitionBy, **options)\u001b[0m\n\u001b[1;32m    964\u001b[0m     \u001b[38;5;28mself\u001b[39m\u001b[38;5;241m.\u001b[39mformat(\u001b[38;5;28mformat\u001b[39m)\n\u001b[1;32m    965\u001b[0m \u001b[38;5;28;01mif\u001b[39;00m path \u001b[38;5;129;01mis\u001b[39;00m \u001b[38;5;28;01mNone\u001b[39;00m:\n\u001b[0;32m--> 966\u001b[0m     \u001b[38;5;28mself\u001b[39m\u001b[38;5;241m.\u001b[39m_jwrite\u001b[38;5;241m.\u001b[39msave()\n\u001b[1;32m    967\u001b[0m \u001b[38;5;28;01melse\u001b[39;00m:\n\u001b[1;32m    968\u001b[0m     \u001b[38;5;28mself\u001b[39m\u001b[38;5;241m.\u001b[39m_jwrite\u001b[38;5;241m.\u001b[39msave(path)\n",
      "File \u001b[0;32m~/spark/spark-3.3.2-bin-hadoop3/python/lib/py4j-0.10.9.5-src.zip/py4j/java_gateway.py:1321\u001b[0m, in \u001b[0;36mJavaMember.__call__\u001b[0;34m(self, *args)\u001b[0m\n\u001b[1;32m   1315\u001b[0m command \u001b[38;5;241m=\u001b[39m proto\u001b[38;5;241m.\u001b[39mCALL_COMMAND_NAME \u001b[38;5;241m+\u001b[39m\\\n\u001b[1;32m   1316\u001b[0m     \u001b[38;5;28mself\u001b[39m\u001b[38;5;241m.\u001b[39mcommand_header \u001b[38;5;241m+\u001b[39m\\\n\u001b[1;32m   1317\u001b[0m     args_command \u001b[38;5;241m+\u001b[39m\\\n\u001b[1;32m   1318\u001b[0m     proto\u001b[38;5;241m.\u001b[39mEND_COMMAND_PART\n\u001b[1;32m   1320\u001b[0m answer \u001b[38;5;241m=\u001b[39m \u001b[38;5;28mself\u001b[39m\u001b[38;5;241m.\u001b[39mgateway_client\u001b[38;5;241m.\u001b[39msend_command(command)\n\u001b[0;32m-> 1321\u001b[0m return_value \u001b[38;5;241m=\u001b[39m get_return_value(\n\u001b[1;32m   1322\u001b[0m     answer, \u001b[38;5;28mself\u001b[39m\u001b[38;5;241m.\u001b[39mgateway_client, \u001b[38;5;28mself\u001b[39m\u001b[38;5;241m.\u001b[39mtarget_id, \u001b[38;5;28mself\u001b[39m\u001b[38;5;241m.\u001b[39mname)\n\u001b[1;32m   1324\u001b[0m \u001b[38;5;28;01mfor\u001b[39;00m temp_arg \u001b[38;5;129;01min\u001b[39;00m temp_args:\n\u001b[1;32m   1325\u001b[0m     temp_arg\u001b[38;5;241m.\u001b[39m_detach()\n",
      "File \u001b[0;32m~/spark/spark-3.3.2-bin-hadoop3/python/pyspark/sql/utils.py:190\u001b[0m, in \u001b[0;36mcapture_sql_exception.<locals>.deco\u001b[0;34m(*a, **kw)\u001b[0m\n\u001b[1;32m    188\u001b[0m \u001b[38;5;28;01mdef\u001b[39;00m \u001b[38;5;21mdeco\u001b[39m(\u001b[38;5;241m*\u001b[39ma: Any, \u001b[38;5;241m*\u001b[39m\u001b[38;5;241m*\u001b[39mkw: Any) \u001b[38;5;241m-\u001b[39m\u001b[38;5;241m>\u001b[39m Any:\n\u001b[1;32m    189\u001b[0m     \u001b[38;5;28;01mtry\u001b[39;00m:\n\u001b[0;32m--> 190\u001b[0m         \u001b[38;5;28;01mreturn\u001b[39;00m f(\u001b[38;5;241m*\u001b[39ma, \u001b[38;5;241m*\u001b[39m\u001b[38;5;241m*\u001b[39mkw)\n\u001b[1;32m    191\u001b[0m     \u001b[38;5;28;01mexcept\u001b[39;00m Py4JJavaError \u001b[38;5;28;01mas\u001b[39;00m e:\n\u001b[1;32m    192\u001b[0m         converted \u001b[38;5;241m=\u001b[39m convert_exception(e\u001b[38;5;241m.\u001b[39mjava_exception)\n",
      "File \u001b[0;32m~/spark/spark-3.3.2-bin-hadoop3/python/lib/py4j-0.10.9.5-src.zip/py4j/protocol.py:326\u001b[0m, in \u001b[0;36mget_return_value\u001b[0;34m(answer, gateway_client, target_id, name)\u001b[0m\n\u001b[1;32m    324\u001b[0m value \u001b[38;5;241m=\u001b[39m OUTPUT_CONVERTER[\u001b[38;5;28mtype\u001b[39m](answer[\u001b[38;5;241m2\u001b[39m:], gateway_client)\n\u001b[1;32m    325\u001b[0m \u001b[38;5;28;01mif\u001b[39;00m answer[\u001b[38;5;241m1\u001b[39m] \u001b[38;5;241m==\u001b[39m REFERENCE_TYPE:\n\u001b[0;32m--> 326\u001b[0m     \u001b[38;5;28;01mraise\u001b[39;00m Py4JJavaError(\n\u001b[1;32m    327\u001b[0m         \u001b[38;5;124m\"\u001b[39m\u001b[38;5;124mAn error occurred while calling \u001b[39m\u001b[38;5;132;01m{0}\u001b[39;00m\u001b[38;5;132;01m{1}\u001b[39;00m\u001b[38;5;132;01m{2}\u001b[39;00m\u001b[38;5;124m.\u001b[39m\u001b[38;5;130;01m\\n\u001b[39;00m\u001b[38;5;124m\"\u001b[39m\u001b[38;5;241m.\u001b[39m\n\u001b[1;32m    328\u001b[0m         \u001b[38;5;28mformat\u001b[39m(target_id, \u001b[38;5;124m\"\u001b[39m\u001b[38;5;124m.\u001b[39m\u001b[38;5;124m\"\u001b[39m, name), value)\n\u001b[1;32m    329\u001b[0m \u001b[38;5;28;01melse\u001b[39;00m:\n\u001b[1;32m    330\u001b[0m     \u001b[38;5;28;01mraise\u001b[39;00m Py4JError(\n\u001b[1;32m    331\u001b[0m         \u001b[38;5;124m\"\u001b[39m\u001b[38;5;124mAn error occurred while calling \u001b[39m\u001b[38;5;132;01m{0}\u001b[39;00m\u001b[38;5;132;01m{1}\u001b[39;00m\u001b[38;5;132;01m{2}\u001b[39;00m\u001b[38;5;124m. Trace:\u001b[39m\u001b[38;5;130;01m\\n\u001b[39;00m\u001b[38;5;132;01m{3}\u001b[39;00m\u001b[38;5;130;01m\\n\u001b[39;00m\u001b[38;5;124m\"\u001b[39m\u001b[38;5;241m.\u001b[39m\n\u001b[1;32m    332\u001b[0m         \u001b[38;5;28mformat\u001b[39m(target_id, \u001b[38;5;124m\"\u001b[39m\u001b[38;5;124m.\u001b[39m\u001b[38;5;124m\"\u001b[39m, name, value))\n",
      "\u001b[0;31mPy4JJavaError\u001b[0m: An error occurred while calling o376.save.\n: java.lang.ClassNotFoundException: \nFailed to find data source: bigquery. Please find packages at\nhttps://spark.apache.org/third-party-projects.html\n       \n\tat org.apache.spark.sql.errors.QueryExecutionErrors$.failedToFindDataSourceError(QueryExecutionErrors.scala:587)\n\tat org.apache.spark.sql.execution.datasources.DataSource$.lookupDataSource(DataSource.scala:675)\n\tat org.apache.spark.sql.execution.datasources.DataSource$.lookupDataSourceV2(DataSource.scala:725)\n\tat org.apache.spark.sql.DataFrameWriter.lookupV2Provider(DataFrameWriter.scala:864)\n\tat org.apache.spark.sql.DataFrameWriter.saveInternal(DataFrameWriter.scala:256)\n\tat org.apache.spark.sql.DataFrameWriter.save(DataFrameWriter.scala:247)\n\tat java.base/jdk.internal.reflect.NativeMethodAccessorImpl.invoke0(Native Method)\n\tat java.base/jdk.internal.reflect.NativeMethodAccessorImpl.invoke(NativeMethodAccessorImpl.java:62)\n\tat java.base/jdk.internal.reflect.DelegatingMethodAccessorImpl.invoke(DelegatingMethodAccessorImpl.java:43)\n\tat java.base/java.lang.reflect.Method.invoke(Method.java:566)\n\tat py4j.reflection.MethodInvoker.invoke(MethodInvoker.java:244)\n\tat py4j.reflection.ReflectionEngine.invoke(ReflectionEngine.java:357)\n\tat py4j.Gateway.invoke(Gateway.java:282)\n\tat py4j.commands.AbstractCommand.invokeMethod(AbstractCommand.java:132)\n\tat py4j.commands.CallCommand.execute(CallCommand.java:79)\n\tat py4j.ClientServerConnection.waitForCommands(ClientServerConnection.java:182)\n\tat py4j.ClientServerConnection.run(ClientServerConnection.java:106)\n\tat java.base/java.lang.Thread.run(Thread.java:834)\nCaused by: java.lang.ClassNotFoundException: bigquery.DefaultSource\n\tat java.base/java.net.URLClassLoader.findClass(URLClassLoader.java:471)\n\tat java.base/java.lang.ClassLoader.loadClass(ClassLoader.java:588)\n\tat java.base/java.lang.ClassLoader.loadClass(ClassLoader.java:521)\n\tat org.apache.spark.sql.execution.datasources.DataSource$.$anonfun$lookupDataSource$5(DataSource.scala:661)\n\tat scala.util.Try$.apply(Try.scala:213)\n\tat org.apache.spark.sql.execution.datasources.DataSource$.$anonfun$lookupDataSource$4(DataSource.scala:661)\n\tat scala.util.Failure.orElse(Try.scala:224)\n\tat org.apache.spark.sql.execution.datasources.DataSource$.lookupDataSource(DataSource.scala:661)\n\t... 16 more\n"
     ]
    }
   ],
   "source": [
    "# monthly_df.write.format('bigquery') \\\n",
    "#     .option('table',monthly_stock_data) \\\n",
    "#     .save() \n",
    "# monthly_df.write \\\n",
    "#     .format(\"bigquery\") \\\n",
    "#     .option(\"table\", \"de-zoomcamp-project-453801.demo_dataset.monthly_stock\") \\\n",
    "#     .mode(\"overwrite\") \\\n",
    "#     .save()\n"
   ]
  },
  {
   "cell_type": "code",
   "execution_count": null,
   "id": "9d2d3ac1-cd9e-4a2c-8b94-ac489fe8eb0e",
   "metadata": {},
   "outputs": [],
   "source": []
  }
 ],
 "metadata": {
  "kernelspec": {
   "display_name": "Python 3 (ipykernel)",
   "language": "python",
   "name": "python3"
  },
  "language_info": {
   "codemirror_mode": {
    "name": "ipython",
    "version": 3
   },
   "file_extension": ".py",
   "mimetype": "text/x-python",
   "name": "python",
   "nbconvert_exporter": "python",
   "pygments_lexer": "ipython3",
   "version": "3.12.7"
  }
 },
 "nbformat": 4,
 "nbformat_minor": 5
}
